{
 "cells": [
  {
   "cell_type": "markdown",
   "metadata": {},
   "source": [
    "# Production des résultats\n",
    "\n",
    "On fait tourner l'algorithme de recherche locale et de recherche taboue pour toutes les instances.\n",
    "\n",
    "On enregistre les résultats dans le dossier résultat. "
   ]
  },
  {
   "cell_type": "code",
   "execution_count": 1,
   "metadata": {},
   "outputs": [],
   "source": [
    "import init_sol as init\n",
    "import voisinage as v\n",
    "import numpy as np\n",
    "import os\n",
    "import pandas as pd\n",
    "import time\n",
    "import recherche_taboue as rt\n",
    "\n",
    "dir_instances = \"instances/\"\n",
    "dir_resultats = \"resultats/\"\n"
   ]
  },
  {
   "cell_type": "markdown",
   "metadata": {},
   "source": [
    "## Recherche locale"
   ]
  },
  {
   "cell_type": "markdown",
   "metadata": {},
   "source": [
    "### Exécuter pour résultats sur instances 1-12 en 50s max par instances\n",
    "\n",
    "Voisinage: réaffectation d'une tâche.\n",
    "\n",
    "Départs multiples: 20 par tâches."
   ]
  },
  {
   "cell_type": "code",
   "execution_count": 11,
   "metadata": {},
   "outputs": [
    {
     "name": "stdout",
     "output_type": "stream",
     "text": [
      "gap1 0 15 5 val  330  en  0.044892072677612305 s.\n",
      "gap1 1 15 5 val  319  en  0.03390622138977051 s.\n",
      "gap1 2 15 5 val  337  en  0.02792644500732422 s.\n",
      "gap1 3 15 5 val  331  en  0.05188274383544922 s.\n",
      "gap1 4 15 5 val  322  en  0.02692246437072754 s.\n",
      "gap10 0 40 10 val  948  en  0.22940635681152344 s.\n",
      "gap10 1 40 10 val  953  en  0.2892439365386963 s.\n",
      "gap10 2 40 10 val  950  en  0.2483372688293457 s.\n",
      "gap10 3 40 10 val  936  en  0.2703084945678711 s.\n",
      "gap10 4 40 10 val  940  en  0.24737262725830078 s.\n",
      "gap11 0 50 10 val  1131  en  0.3518404960632324 s.\n",
      "gap11 1 50 10 val  1171  en  0.37199926376342773 s.\n",
      "gap11 2 50 10 val  1187  en  0.47077298164367676 s.\n",
      "gap11 3 50 10 val  1159  en  0.3790247440338135 s.\n",
      "gap11 4 50 10 val  1154  en  0.43486952781677246 s.\n",
      "gap12 0 60 10 val  1436  en  0.49271154403686523 s.\n",
      "gap12 1 60 10 val  1442  en  0.6037857532501221 s.\n",
      "gap12 2 60 10 val  1424  en  0.7429678440093994 s.\n",
      "gap12 3 60 10 val  1437  en  0.6493017673492432 s.\n",
      "gap12 4 60 10 val  1432  en  0.5395920276641846 s.\n",
      "gap2 0 20 5 val  427  en  0.03587770462036133 s.\n",
      "gap2 1 20 5 val  428  en  0.0329127311706543 s.\n",
      "gap2 2 20 5 val  416  en  0.04089021682739258 s.\n",
      "gap2 3 20 5 val  413  en  0.037899017333984375 s.\n",
      "gap2 4 20 5 val  423  en  0.03692793846130371 s.\n",
      "gap3 0 25 5 val  576  en  0.057847023010253906 s.\n",
      "gap3 1 25 5 val  555  en  0.07084178924560547 s.\n",
      "gap3 2 25 5 val  572  en  0.06482625007629395 s.\n",
      "gap3 3 25 5 val  568  en  0.056876420974731445 s.\n",
      "gap3 4 25 5 val  555  en  0.055852413177490234 s.\n",
      "gap4 0 30 5 val  651  en  0.08178973197937012 s.\n",
      "gap4 1 30 5 val  632  en  0.0698091983795166 s.\n",
      "gap4 2 30 5 val  662  en  0.08078241348266602 s.\n",
      "gap4 3 30 5 val  634  en  0.06680774688720703 s.\n",
      "gap4 4 30 5 val  657  en  0.06981277465820312 s.\n",
      "gap5 0 24 8 val  557  en  0.09176969528198242 s.\n",
      "gap5 1 24 8 val  546  en  0.09572267532348633 s.\n",
      "gap5 2 24 8 val  561  en  0.09275078773498535 s.\n",
      "gap5 3 24 8 val  566  en  0.08476614952087402 s.\n",
      "gap5 4 24 8 val  546  en  0.07283782958984375 s.\n",
      "gap6 0 32 8 val  755  en  0.13165283203125 s.\n",
      "gap6 1 32 8 val  755  en  0.1485903263092041 s.\n",
      "gap6 2 32 8 val  748  en  0.12965035438537598 s.\n",
      "gap6 3 32 8 val  749  en  0.13364219665527344 s.\n",
      "gap6 4 32 8 val  746  en  0.11772441864013672 s.\n",
      "gap7 0 40 8 val  931  en  0.1875011920928955 s.\n",
      "gap7 1 40 8 val  941  en  0.20548248291015625 s.\n",
      "gap7 2 40 8 val  953  en  0.202559232711792 s.\n",
      "gap7 3 40 8 val  918  en  0.18550801277160645 s.\n",
      "gap7 4 40 8 val  938  en  0.19747161865234375 s.\n",
      "gap8 0 48 8 val  1124  en  0.21642136573791504 s.\n",
      "gap8 1 48 8 val  1113  en  0.22539806365966797 s.\n",
      "gap8 2 48 8 val  1129  en  0.24730753898620605 s.\n",
      "gap8 3 48 8 val  1108  en  0.22639822959899902 s.\n",
      "gap8 4 48 8 val  1110  en  0.22040748596191406 s.\n",
      "gap9 0 30 10 val  703  en  0.13666892051696777 s.\n",
      "gap9 1 30 10 val  709  en  0.15857648849487305 s.\n",
      "gap9 2 30 10 val  702  en  0.11971259117126465 s.\n",
      "gap9 3 30 10 val  720  en  0.13673806190490723 s.\n",
      "gap9 4 30 10 val  693  en  0.13666605949401855 s.\n"
     ]
    }
   ],
   "source": [
    "fn_initialisation = init.sol_gloutonne_stoch_c\n",
    "fn_un_pas = v.un_pas_reaffectation\n",
    "initialisation = True\n",
    "critere = 'max'\n",
    "timeMax = 50\n",
    "nb_depart = 20\n",
    "\n",
    "\n",
    "results = []\n",
    "\n",
    "for file in os.listdir(dir_instances)[:12]:\n",
    "    instance = file[:-4]\n",
    "    if file[-4:] == '.txt':\n",
    "        for id in range(5):\n",
    "            pb = init.Pb(dir_instances+file, id)\n",
    "            val, sol, execTime = v.montee_depMult_timeMax(pb, fn_initialisation, fn_un_pas, timeMax=timeMax,\n",
    "                                                            critere=critere, init = initialisation, nb_depart = nb_depart)\n",
    "            \n",
    "            print(instance, id,pb.t, pb.m,\"val \", val, \" en \", execTime,\"s.\")\n",
    "            results.append({\"instance\":instance, \"id\":id, \"m\":pb.m, \"t\":pb.t, \"val\":val,\"time\":execTime})\n",
    "            results_rt_1_swap = pd.DataFrame(results)\n",
    "            results_rt_1_swap.to_csv(dir_resultats+\"max_resultats-1-12_rl_depMult_reaffect_stoch_50_5.csv\")\n",
    "            if pb.realisabilite(sol)!=0:\n",
    "                print(\"Non realisable -------- \", file, id)"
   ]
  },
  {
   "cell_type": "markdown",
   "metadata": {},
   "source": [
    "### Exécuter pour résultats sur instances a-c en 50s max par instances\n",
    "\n",
    "Voisinage: réaffectation d'une tâche.\n",
    "\n",
    "Départs multiples: 5 par tâches."
   ]
  },
  {
   "cell_type": "code",
   "execution_count": 3,
   "metadata": {},
   "outputs": [
    {
     "name": "stdout",
     "output_type": "stream",
     "text": [
      "gapa 0 100 5 val  1703  en  0.39693617820739746 s.\n",
      "gapa 1 200 5 val  3236  en  0.7060806751251221 s.\n",
      "gapa 2 100 10 val  1365  en  0.4109039306640625 s.\n",
      "gapa 3 200 10 val  2628  en  1.7145674228668213 s.\n",
      "gapa 4 100 20 val  1167  en  0.7716884613037109 s.\n",
      "gapa 5 200 20 val  2349  en  2.7741503715515137 s.\n",
      "gapb 0 100 5 val  1887  en  0.09776711463928223 s.\n",
      "gapb 1 200 5 val  3598  en  0.46678614616394043 s.\n",
      "gapb 2 100 10 val  1430  en  0.2870783805847168 s.\n",
      "gapb 3 200 10 val  2892  en  1.078064203262329 s.\n",
      "gapb 4 100 20 val  1205  en  0.6204080581665039 s.\n",
      "gapb 5 200 20 val  2364  en  2.3936221599578857 s.\n",
      "gapc 0 100 5 val  1957  en  0.16159701347351074 s.\n",
      "gapc 1 200 5 val  3516  en  0.5316731929779053 s.\n",
      "gapc 2 100 10 val  1440  en  0.25035977363586426 s.\n",
      "gapc 3 200 10 val  2852  en  1.1519596576690674 s.\n",
      "gapc 4 100 20 val  1276  en  0.5850422382354736 s.\n",
      "gapc 5 200 20 val  2431  en  2.1382834911346436 s.\n"
     ]
    }
   ],
   "source": [
    "fn_initialisation = init.sol_gloutonne_stoch_c\n",
    "fn_un_pas = v.un_pas_reaffectation\n",
    "initialisation = True\n",
    "critere = 'min'\n",
    "timeMax = 50\n",
    "nb_depart = 5\n",
    "\n",
    "\n",
    "results = []\n",
    "\n",
    "for file in os.listdir(dir_instances)[-6:]:\n",
    "    instance = file[:-4]\n",
    "    if file[-4:] == '.txt' and instance !=\"gapd\":\n",
    "        for id in range(6):\n",
    "            pb = init.Pb(dir_instances+file, id)\n",
    "            val, sol, execTime = v.montee_depMult_timeMax(pb, fn_initialisation, fn_un_pas, timeMax=timeMax,\n",
    "                                                          critere=critere, init = initialisation, nb_depart = nb_depart)\n",
    "            \n",
    "            print(instance, id,pb.t, pb.m,\"val \", val, \" en \", execTime,\"s.\")\n",
    "            results.append({\"instance\":instance, \"id\":id, \"m\":pb.m, \"t\":pb.t, \"val\":val,\"time\":execTime})\n",
    "            results_rt_1_swap = pd.DataFrame(results)\n",
    "            results_rt_1_swap.to_csv(dir_resultats+\"min_resultats-a-c_rl_depMult_reaffect_stoch_50_5.csv\")\n",
    "            if pb.realisabilite(sol)!=0:\n",
    "                print(\"Non realisable -------- \", file, id)"
   ]
  },
  {
   "cell_type": "markdown",
   "metadata": {},
   "source": [
    "### Exécuter pour résultats sur instances d en 50s max par instances\n",
    "\n",
    "Voisinage: réaffectation d'une tâche.\n",
    "\n",
    "Départs multiples: 5 par tâches."
   ]
  },
  {
   "cell_type": "code",
   "execution_count": 4,
   "metadata": {},
   "outputs": [
    {
     "name": "stdout",
     "output_type": "stream",
     "text": [
      "gapd 1 200 5 val  13632  en  0.4757509231567383 s.\n",
      "gapd 2 100 10 val  6812  en  0.31585264205932617 s.\n",
      "gapd 3 200 10 val  13446  en  0.8225662708282471 s.\n",
      "gapd 4 100 20 val  6612  en  0.9705054759979248 s.\n",
      "gapd 5 200 20 val  13268  en  2.4485414028167725 s.\n"
     ]
    }
   ],
   "source": [
    "fn_initialisation = init.sol_gloutonne_stoch_c\n",
    "fn_un_pas = v.un_pas_reaffectation\n",
    "initialisation = True\n",
    "critere = 'min'\n",
    "timeMax = 50\n",
    "nb_depart = 5\n",
    "\n",
    "\n",
    "results = []\n",
    "\n",
    "for file in os.listdir(dir_instances)[-4:]:\n",
    "    instance = file[:-4]\n",
    "    if instance ==\"gapd\":\n",
    "        for id in range(1,6):\n",
    "            pb = init.Pb(dir_instances+file, id)\n",
    "            val, sol, execTime = v.montee_depMult_timeMax(pb, fn_initialisation, fn_un_pas, timeMax=timeMax,\n",
    "                                                          critere=critere, init = initialisation, nb_depart = nb_depart)\n",
    "            \n",
    "            print(instance, id,pb.t, pb.m,\"val \", val, \" en \", execTime,\"s.\")\n",
    "            results.append({\"instance\":instance, \"id\":id, \"m\":pb.m, \"t\":pb.t, \"val\":val,\"time\":execTime})\n",
    "            results_rt_1_swap = pd.DataFrame(results)\n",
    "            results_rt_1_swap.to_csv(dir_resultats+\"min_resultats-d_rl_depMult_reaffect_stoch_50_5.csv\")\n",
    "            if pb.realisabilite(sol)!=0:\n",
    "                print(\"Non realisable -------- \", file, id)"
   ]
  },
  {
   "cell_type": "markdown",
   "metadata": {},
   "source": [
    "### Instances additionnelles\n",
    "120s max par instances"
   ]
  },
  {
   "cell_type": "code",
   "execution_count": 5,
   "metadata": {},
   "outputs": [
    {
     "name": "stdout",
     "output_type": "stream",
     "text": [
      "c05100 0 100 5 val  1974  en  0.013852834701538086 s.\n",
      "c05200 0 200 5 val  3516  en  0.10371947288513184 s.\n",
      "c10100 0 100 10 val  1451  en  0.04787087440490723 s.\n",
      "c10200 0 200 10 val  2852  en  0.1216585636138916 s.\n",
      "c10400 0 400 10 val  5684  en  0.5592219829559326 s.\n",
      "c15900 0 900 15 val  11538  en  4.9978742599487305 s.\n",
      "c20100 0 100 20 val  1300  en  0.09772896766662598 s.\n",
      "c201600 0 1600 20 val  19061  en  21.99384570121765 s.\n",
      "c20200 0 200 20 val  2435  en  0.4418206214904785 s.\n",
      "c20400 0 400 20 val  4897  en  1.1980531215667725 s.\n",
      "c30900 0 900 30 val  10139  en  10.287328958511353 s.\n",
      "c401600 0 1600 40 val  17391  en  45.8903648853302 s.\n",
      "c40400 0 400 40 val  4315  en  2.9818127155303955 s.\n",
      "c60900 0 900 60 val  9462  en  24.576541423797607 s.\n",
      "c801600 0 1600 80 val  16517  en  107.80423641204834 s.\n",
      "solution initiale non réalisable: toutes les tâches ne sont pas affectées.\n",
      "d05100 0 100 5 val  -1  en  0.003025054931640625 s.\n",
      "d05200 0 200 5 val  13598  en  0.01998448371887207 s.\n",
      "d10100 0 100 10 val  6812  en  0.022933244705200195 s.\n",
      "d10200 0 200 10 val  13474  en  0.07782936096191406 s.\n",
      "d10400 0 400 10 val  26999  en  0.29623913764953613 s.\n",
      "d15900 0 900 15 val  60147  en  2.1962697505950928 s.\n",
      "d20100 0 100 20 val  6633  en  0.09873533248901367 s.\n",
      "d201600 0 1600 20 val  105963  en  11.64422345161438 s.\n",
      "d20200 0 200 20 val  13335  en  0.20345616340637207 s.\n",
      "d20400 0 400 20 val  26529  en  0.8158504962921143 s.\n",
      "d30900 0 900 30 val  58961  en  6.690070390701294 s.\n",
      "d401600 0 1600 40 val  104015  en  27.38177514076233 s.\n",
      "d40400 0 400 40 val  26228  en  2.479475975036621 s.\n",
      "d60900 0 900 60 val  57638  en  16.46942114830017 s.\n",
      "d801600 0 1600 80 val  102643  en  68.90424585342407 s.\n"
     ]
    }
   ],
   "source": [
    "fn_initialisation = init.sol_gloutonne_2\n",
    "fn_un_pas = v.un_pas_reaffectation\n",
    "initialisation = True\n",
    "critere = 'min'\n",
    "timeMax = 120\n",
    "nb_depart = 1\n",
    "\n",
    "\n",
    "results = []\n",
    "for dir in [\"gap_c/\", \"gap_d/\"]:\n",
    "    for file in os.listdir(dir_instances + dir):\n",
    "        instance = file\n",
    "        pb = init.Pb(dir_instances+ dir+ file, 0)\n",
    "        val, sol, execTime = v.montee_depMult_timeMax(pb, fn_initialisation, fn_un_pas, timeMax=timeMax,\n",
    "                                                        critere=critere, init = initialisation, nb_depart = nb_depart)\n",
    "        \n",
    "        print(instance, 0,pb.t, pb.m,\"val \", val, \" en \", execTime,\"s.\")\n",
    "        results.append({\"instance\":instance, \"id\":0, \"m\":pb.m, \"t\":pb.t, \"val\":val,\"time\":execTime})\n",
    "        results_rt_1_swap = pd.DataFrame(results)\n",
    "        results_rt_1_swap.to_csv(dir_resultats+\"min_resultats_bonus_rl_depMult_reaffect_stoch_50_5.csv\")\n",
    "        if pb.realisabilite(sol)!=0:\n",
    "            print(\"Non realisable -------- \", file, 0)"
   ]
  },
  {
   "cell_type": "markdown",
   "metadata": {},
   "source": [
    "## Recherche taboue"
   ]
  },
  {
   "cell_type": "markdown",
   "metadata": {},
   "source": [
    "### Executer pour resultats sur instances a-c en 8min max par instances\n",
    "1min sans amélioration par départ\n",
    "\n",
    "5 départs\n"
   ]
  },
  {
   "cell_type": "code",
   "execution_count": 2,
   "metadata": {},
   "outputs": [
    {
     "name": "stdout",
     "output_type": "stream",
     "text": [
      "gapa 0 100 5 val  1700  en  180.9795322418213 s.\n",
      "gapa 1 200 5 val  3235  en  182.38682436943054 s.\n",
      "gapa 2 100 10 val  1361  en  185.62529492378235 s.\n",
      "gapa 3 200 10 val  2623  en  190.91509413719177 s.\n",
      "gapa 4 100 20 val  1158  en  185.4897243976593 s.\n",
      "gapa 5 200 20 val  2339  en  198.19036078453064 s.\n",
      "gapb 0 100 5 val  1864  en  180.39246535301208 s.\n",
      "gapb 1 200 5 val  3581  en  181.30633330345154 s.\n",
      "gapb 2 100 10 val  1413  en  182.27426624298096 s.\n",
      "gapb 3 200 10 val  2860  en  237.47069573402405 s.\n",
      "gapb 4 100 20 val  1170  en  201.41278052330017 s.\n",
      "gapb 5 200 20 val  2347  en  284.9826514720917 s.\n",
      "gapc 0 100 5 val  1952  en  180.6210596561432 s.\n",
      "gapc 1 200 5 val  3500  en  181.7729787826538 s.\n",
      "gapc 2 100 10 val  1414  en  206.56603693962097 s.\n",
      "gapc 3 200 10 val  2838  en  187.04588747024536 s.\n",
      "gapc 4 100 20 val  1255  en  205.09377932548523 s.\n",
      "gapc 5 200 20 val  2424  en  189.9579246044159 s.\n"
     ]
    }
   ],
   "source": [
    "fn_rt_glb = rt.a_recherche_taboue_int_timeMax\n",
    "fn_init = init.sol_gloutonne_stoch_c\n",
    "fn_un_pas = rt.descente_un_pas_tabou_reaffect_nvl_agent\n",
    "fn_rt = rt.recherche_taboue_int_div_2\n",
    "fn_un_pas_ls = v.un_pas_reaffectation\n",
    "critere_tabou = rt.tabou_liste_tache_reaffectation\n",
    "initialisation = True\n",
    "critere = 'min'\n",
    "aspiration = True\n",
    "timeMax = 480\n",
    "timeMaxAmelio = 9\n",
    "\n",
    "\n",
    "results = []\n",
    "\n",
    "for file in os.listdir(dir_instances)[-6:]:\n",
    "    instance = file[:-4]\n",
    "    if instance !=\"gapd\" and file[-4:] == '.txt':\n",
    "        for id in range(6):\n",
    "            pb = init.Pb(dir_instances+file, id)\n",
    "            taille_liste = pb.t//4\n",
    "            val, val_initiale, execTime, real = rt.a_recherche_taboue_depart_mult(pb, fn_rt_glb, fn_rt, fn_init, fn_un_pas,fn_un_pas_ls, critere_tabou,\n",
    "                                                                                taille_liste = taille_liste, init = initialisation,\n",
    "                                                                                aspiration = aspiration, critere = critere,\n",
    "                                                                                timeMax = timeMax, timeMaxAmelio=timeMaxAmelio, nb_depart=20)\n",
    "            \n",
    "            print(instance, id,pb.t, pb.m,\"val \", val, \" en \", execTime,\"s.\")\n",
    "            results.append({\"instance\":instance, \"id\":id, \"m\":pb.m, \"t\":pb.t, \"val\":val,\"time\":execTime})\n",
    "            results_rt_1_swap = pd.DataFrame(results)\n",
    "            results_rt_1_swap.to_csv(dir_resultats+\"min_resultats-a-c_rt_depMult_reaffect_stoch_4_tache_480_9.csv\")\n",
    "            if not real:\n",
    "                print(\"Non realisable -------- \", file, id)"
   ]
  },
  {
   "cell_type": "markdown",
   "metadata": {},
   "source": [
    "### Executer pour résultats sur instances d en 8min max"
   ]
  },
  {
   "cell_type": "code",
   "execution_count": 3,
   "metadata": {},
   "outputs": [
    {
     "name": "stdout",
     "output_type": "stream",
     "text": [
      "gapd 1 200 5 val  13598  en  180.96815609931946 s.\n",
      "gapd 2 100 10 val  6707  en  190.77300596237183 s.\n",
      "gapd 3 200 10 val  13371  en  183.35547876358032 s.\n",
      "gapd 4 100 20 val  6510  en  226.7140896320343 s.\n",
      "gapd 5 200 20 val  13157  en  191.01055479049683 s.\n"
     ]
    }
   ],
   "source": [
    "fn_rt_glb = rt.a_recherche_taboue_int_timeMax\n",
    "fn_init = init.sol_gloutonne_stoch_c\n",
    "fn_un_pas = rt.descente_un_pas_tabou_reaffect_nvl_agent\n",
    "fn_rt = rt.recherche_taboue_int_div_2\n",
    "fn_un_pas_ls = v.un_pas_reaffectation\n",
    "critere_tabou = rt.tabou_liste_tache_reaffectation\n",
    "initialisation = True\n",
    "critere = 'min'\n",
    "aspiration = True\n",
    "timeMax = 480\n",
    "timeMaxAmelio = 9\n",
    "\n",
    "\n",
    "results = []\n",
    "\n",
    "for file in os.listdir(dir_instances)[-4:]:\n",
    "    instance = file[:-4]\n",
    "    if instance ==\"gapd\":\n",
    "        for id in range(1,6):\n",
    "            pb = init.Pb(dir_instances+file, id)\n",
    "            taille_liste = pb.t//4\n",
    "            val, val_initiale, execTime, real = rt.a_recherche_taboue_depart_mult(pb, fn_rt_glb, fn_rt, fn_init, fn_un_pas,fn_un_pas_ls, critere_tabou,\n",
    "                                                                                taille_liste = taille_liste, init = initialisation,\n",
    "                                                                                aspiration = aspiration, critere = critere,\n",
    "                                                                                timeMax = timeMax, timeMaxAmelio=timeMaxAmelio, nb_depart=20)\n",
    "            \n",
    "            print(instance, id,pb.t, pb.m,\"val \", val, \" en \", execTime,\"s.\")\n",
    "            results.append({\"instance\":instance, \"id\":id, \"m\":pb.m, \"t\":pb.t, \"val\":val,\"time\":execTime})\n",
    "            results_rt_1_swap = pd.DataFrame(results)\n",
    "            results_rt_1_swap.to_csv(dir_resultats+\"min_resultats-d_rt_depMult_intDiv_reaffect_stoch_4_tache_480_9.csv\")\n",
    "            if not real:\n",
    "                print(\"Non realisable -------- \", file, id)"
   ]
  },
  {
   "cell_type": "markdown",
   "metadata": {},
   "source": [
    "### Executer pour res sur instances 1-12 en 5min max par instances \n",
    "30s sans amélioration par départ\n",
    "\n",
    "5 départs"
   ]
  },
  {
   "cell_type": "code",
   "execution_count": 6,
   "metadata": {},
   "outputs": [
    {
     "name": "stdout",
     "output_type": "stream",
     "text": [
      "gap1 0 val  334  en  180.03062796592712 s.\n",
      "gap1 1 val  327  en  180.04339575767517 s.\n",
      "gap1 2 val  334  en  180.03163981437683 s.\n",
      "gap1 3 val  335  en  184.04497718811035 s.\n",
      "gap1 4 val  322  en  184.04004645347595 s.\n",
      "gap10 0 val  955  en  192.7209701538086 s.\n",
      "gap10 1 val  962  en  184.4175341129303 s.\n",
      "gap10 2 val  954  en  180.45352816581726 s.\n",
      "gap10 3 val  941  en  180.79607510566711 s.\n",
      "gap10 4 val  941  en  180.52098941802979 s.\n",
      "gap11 0 val  1133  en  193.5321843624115 s.\n",
      "gap11 1 val  1174  en  184.77084922790527 s.\n",
      "gap11 2 val  1194  en  196.91065859794617 s.\n",
      "gap11 3 val  1169  en  257.5640285015106 s.\n",
      "gap11 4 val  1168  en  188.51193594932556 s.\n",
      "gap12 0 val  1447  en  180.7656660079956 s.\n",
      "gap12 1 val  1444  en  180.634681224823 s.\n",
      "gap12 2 val  1429  en  180.90759825706482 s.\n",
      "gap12 3 val  1443  en  181.42091727256775 s.\n",
      "gap12 4 val  1440  en  180.86883187294006 s.\n",
      "gap2 0 val  433  en  180.05749535560608 s.\n",
      "gap2 1 val  432  en  180.0365812778473 s.\n",
      "gap2 2 val  418  en  180.0645408630371 s.\n",
      "gap2 3 val  413  en  180.04380297660828 s.\n",
      "gap2 4 val  428  en  180.08920168876648 s.\n",
      "gap3 0 val  578  en  180.08564400672913 s.\n",
      "gap3 1 val  564  en  184.16777563095093 s.\n",
      "gap3 2 val  572  en  180.05164790153503 s.\n",
      "gap3 3 val  568  en  180.05801153182983 s.\n",
      "gap3 4 val  561  en  180.08292651176453 s.\n",
      "gap4 0 val  654  en  180.19414162635803 s.\n",
      "gap4 1 val  639  en  180.16506624221802 s.\n",
      "gap4 2 val  669  en  180.15510725975037 s.\n",
      "gap4 3 val  644  en  180.11055374145508 s.\n",
      "gap4 4 val  660  en  180.19659566879272 s.\n",
      "gap5 0 val  563  en  224.45125460624695 s.\n",
      "gap5 1 val  557  en  184.41871643066406 s.\n",
      "gap5 2 val  564  en  208.72087335586548 s.\n",
      "gap5 3 val  568  en  196.6918592453003 s.\n",
      "gap5 4 val  553  en  184.157865524292 s.\n",
      "gap6 0 val  760  en  208.54905366897583 s.\n",
      "gap6 1 val  759  en  196.4799680709839 s.\n",
      "gap6 2 val  750  en  184.23747372627258 s.\n",
      "gap6 3 val  752  en  220.61032843589783 s.\n",
      "gap6 4 val  746  en  184.21644020080566 s.\n",
      "gap7 0 val  936  en  180.5113501548767 s.\n",
      "gap7 1 val  946  en  192.5263729095459 s.\n",
      "gap7 2 val  965  en  188.32115745544434 s.\n",
      "gap7 3 val  921  en  180.21786522865295 s.\n",
      "gap7 4 val  942  en  180.32117104530334 s.\n",
      "gap8 0 val  1125  en  180.3082377910614 s.\n",
      "gap8 1 val  1119  en  180.25908517837524 s.\n",
      "gap8 2 val  1134  en  180.30988240242004 s.\n",
      "gap8 3 val  1111  en  180.25141406059265 s.\n",
      "gap8 4 val  1115  en  180.25267910957336 s.\n",
      "gap9 0 val  709  en  204.58638882637024 s.\n",
      "gap9 1 val  714  en  220.71363639831543 s.\n",
      "gap9 2 val  710  en  204.4597852230072 s.\n",
      "gap9 3 val  722  en  204.38879489898682 s.\n",
      "gap9 4 val  702  en  184.38277006149292 s.\n"
     ]
    }
   ],
   "source": [
    "fn_rt_glb = rt.a_recherche_taboue_int_timeMax\n",
    "fn_init = init.sol_gloutonne_stoch_c\n",
    "fn_un_pas = rt.montee_un_pas_tabou_reaffect_nvl_agent\n",
    "fn_rt = rt.recherche_taboue_int_div_2\n",
    "fn_un_pas_ls = v.un_pas_reaffectation\n",
    "critere_tabou = rt.tabou_liste_tache_reaffectation\n",
    "initialisation = True\n",
    "critere = 'max'\n",
    "aspiration = True\n",
    "timeMax = 480\n",
    "timeMaxAmelio = 9\n",
    "\n",
    "\n",
    "results = []\n",
    "\n",
    "for file in os.listdir(dir_instances)[:12]:\n",
    "    instance = file[:-4]\n",
    "    if file[-4:] == '.txt':\n",
    "        for id in range(5):\n",
    "            pb = init.Pb(dir_instances+file, id)\n",
    "            taille_liste = pb.t//4\n",
    "            val, val_initiale, execTime, real = rt.a_recherche_taboue_depart_mult(pb, fn_rt_glb, fn_rt, fn_init, fn_un_pas,fn_un_pas_ls, critere_tabou,\n",
    "                                                                                taille_liste = taille_liste, init = initialisation,\n",
    "                                                                                aspiration = aspiration, critere = critere,\n",
    "                                                                                timeMax = timeMax, timeMaxAmelio=timeMaxAmelio, nb_depart=20)\n",
    "            \n",
    "            print(instance, id,\"val \", val, \" en \", execTime,\"s.\")\n",
    "            results.append({\"instance\":instance, \"id\":id, \"m\":pb.m, \"t\":pb.t, \"val\":val,\"time\":execTime})\n",
    "            results_rt_1_swap = pd.DataFrame(results)\n",
    "            results_rt_1_swap.to_csv(dir_resultats+\"max_resultats-1-12_rt_depMult_reaffect_stoch_4_tache_480_9.csv\")\n",
    "\n",
    "\n",
    "            if not real:\n",
    "                print(\"Non realisable -------- \", file, id)"
   ]
  },
  {
   "cell_type": "markdown",
   "metadata": {},
   "source": [
    "### Instances gap_c gap_d \n",
    "6min max par instances.\n",
    "\n",
    "2min sans amélioration.\n",
    "\n",
    "1 seul départ."
   ]
  },
  {
   "cell_type": "code",
   "execution_count": 48,
   "metadata": {},
   "outputs": [
    {
     "name": "stdout",
     "output_type": "stream",
     "text": [
      "c05100 0 val  4377  en  20.035112380981445 s.\n",
      "c05200 0 val  8254  en  20.05175471305847 s.\n",
      "c10100 0 val  4468  en  20.048233032226562 s.\n",
      "c10200 0 val  9180  en  20.156447887420654 s.\n",
      "c10400 0 val  18157  en  20.581433057785034 s.\n",
      "c15900 0 val  42552  en  26.445935249328613 s.\n",
      "c20100 0 val  4696  en  20.118122100830078 s.\n",
      "c201600 0 val  76532  en  46.47918510437012 s.\n",
      "c20200 0 val  9549  en  20.401317834854126 s.\n",
      "c20400 0 val  19055  en  21.812312126159668 s.\n",
      "c30900 0 val  43694  en  33.543999910354614 s.\n",
      "c401600 0 val  78368  en  87.11615872383118 s.\n",
      "c40400 0 val  19559  en  24.396840810775757 s.\n",
      "c60900 0 val  44428  en  54.37332820892334 s.\n",
      "c801600 0 val  79365  en  174.58449149131775 s.\n",
      "d05100 0 val  9147  en  20.010828733444214 s.\n",
      "d05200 0 val  18750  en  20.03922748565674 s.\n",
      "d10100 0 val  10349  en  20.056166172027588 s.\n",
      "d10200 0 val  20562  en  20.133081197738647 s.\n",
      "d10400 0 val  41222  en  20.314457893371582 s.\n",
      "d15900 0 val  95869  en  23.959693908691406 s.\n",
      "d20100 0 val  10839  en  20.07020902633667 s.\n",
      "d201600 0 val  173695  en  39.04452347755432 s.\n",
      "d20200 0 val  21733  en  20.410398960113525 s.\n",
      "d20400 0 val  43332  en  20.9607253074646 s.\n",
      "d30900 0 val  99560  en  33.21828579902649 s.\n",
      "d401600 0 val  179034  en  67.3075680732727 s.\n",
      "d40400 0 val  44926  en  22.59626531600952 s.\n",
      "d60900 0 val  102225  en  46.180503129959106 s.\n",
      "d801600 0 val  183367  en  130.44646286964417 s.\n"
     ]
    }
   ],
   "source": [
    "fn_rt_glb = rt.a_recherche_taboue_int_timeMax\n",
    "fn_init = init.sol_gloutonne_2\n",
    "fn_un_pas = rt.descente_un_pas_tabou_reaffect_nvl_agent\n",
    "fn_rt = rt.recherche_taboue_int_div_2\n",
    "fn_un_pas_ls = v.un_pas_reaffectation\n",
    "critere_tabou = rt.tabou_liste_tache_reaffectation\n",
    "initialisation = True\n",
    "critere = 'max'\n",
    "aspiration = True\n",
    "timeMax = 300\n",
    "timeMaxAmelio = 20\n",
    "\n",
    "\n",
    "results = []\n",
    "for dir in [\"gap_c/\", \"gap_d/\"]:\n",
    "    for file in os.listdir(dir_instances + dir):\n",
    "        instance = file\n",
    "        pb = init.Pb(dir_instances+ dir+ file, 0)\n",
    "        taille_liste = pb.t//4\n",
    "        val, val_initiale, execTime, real = rt.a_recherche_taboue_depart_mult(pb, fn_rt_glb, fn_rt, fn_init, fn_un_pas,fn_un_pas_ls, critere_tabou,\n",
    "                                                                            taille_liste = taille_liste, init = initialisation,\n",
    "                                                                            aspiration = aspiration, critere = critere,\n",
    "                                                                            timeMax = timeMax, timeMaxAmelio=timeMaxAmelio, nb_depart=1)\n",
    "        \n",
    "        print(instance, 0,\"val \", val, \" en \", execTime,\"s.\")\n",
    "        results.append({\"instance\":instance, \"id\":0, \"m\":pb.m, \"t\":pb.t, \"val\":val,\"time\":execTime})\n",
    "        results_rt_1_swap = pd.DataFrame(results)\n",
    "        results_rt_1_swap.to_csv(dir_resultats+\"min_resultats_bonus_rt_reaffect_stoch_300_9.csv\")\n",
    "        if not real:\n",
    "            print(\"Non realisable -------- \", file)"
   ]
  },
  {
   "cell_type": "code",
   "execution_count": null,
   "metadata": {},
   "outputs": [],
   "source": [
    "liste= ['comp_max_resultats-1-12_rl_depMult_reaffect_stoch_50_5.csv',\n",
    " 'comp_max_resultats-1-12_rt_depMult_reaffect_stoch_4_tache_480_9.csv',\n",
    " 'comp_min_resultats-a-c_rl_depMult_reaffect_stoch_50_5.csv',\n",
    " 'comp_min_resultats-a-c_rt_depMult_reaffect_stoch_4_tache_480_60.csv',\n",
    " 'comp_min_resultats-a-c_rt_depMult_reaffect_stoch_4_tache_480_9.csv',\n",
    " 'comp_min_resultats-d_rl_depMult_reaffect_stoch_50_5.csv',\n",
    " 'comp_min_resultats-d_rt_depMult_intDiv_reaffect_stoch_4_tache_480_9.csv',\n",
    " 'comp_min_resultats-d_rt_depMult_reaffect_stoch_4_tache_480_60.csv',\n",
    " 'comp_min_resultats_bonus_rl_depMult_reaffect_stoch_50_5.csv',\n",
    " 'comp_min_resultats_bonus_rt_reaffect_stoch_360_120.csv']"
   ]
  },
  {
   "cell_type": "code",
   "execution_count": 19,
   "metadata": {},
   "outputs": [
    {
     "name": "stdout",
     "output_type": "stream",
     "text": [
      "\\\\\n"
     ]
    }
   ],
   "source": [
    "print(\"\\\\\\\\\")"
   ]
  },
  {
   "cell_type": "code",
   "execution_count": 45,
   "metadata": {},
   "outputs": [
    {
     "name": "stdout",
     "output_type": "stream",
     "text": [
      "\n",
      "c05100 4377 120.018 \\\\\n",
      "c05200 8254 120.052 \\\\\n",
      "c10100 4468 120.046 \\\\\n",
      "c10200 9180 120.158 \\\\\n",
      "c10400 18157 120.676 \\\\\n",
      "c15900 42552 125.573 \\\\\n",
      "c20100 4696 120.102 \\\\\n",
      "c201600 76532 144.642 \\\\\n",
      "c20200 9549 120.421 \\\\\n",
      "c20400 19055 121.676 \\\\\n",
      "c30900 43694 133.454 \\\\\n",
      "c401600 78368 181.796 \\\\\n",
      "c40400 19559 124.06 \\\\\n",
      "c60900 44428 150.356 \\\\\n",
      "c801600 79365 250.638 \\\\\n",
      "\n",
      "d05100 9147 120.011 \\\\\n",
      "d05200 18750 120.028 \\\\\n",
      "d10100 10349 120.036 \\\\\n",
      "d10200 20562 120.099 \\\\\n",
      "d10400 41222 120.393 \\\\\n",
      "d15900 95869 123.412 \\\\\n",
      "d20100 10839 120.068 \\\\\n",
      "d201600 173695 136.087 \\\\\n",
      "d20200 21733 120.239 \\\\\n",
      "d20400 43332 121.006 \\\\\n",
      "d30900 99560 129.853 \\\\\n",
      "d401600 179034 164.991 \\\\\n",
      "d40400 44926 122.922 \\\\\n",
      "d60900 102225 144.438 \\\\\n",
      "d801600 183367 221.248 \\\\\n"
     ]
    }
   ],
   "source": [
    "file = 'comp_min_resultats_bonus_rt_reaffect_stoch_360_120.csv'\n",
    "df = pd.read_csv(\"resultats/comparaison_borne/\" + file)\n",
    "output = []\n",
    "for index, row in df.iterrows():\n",
    "    if index%15==0:\n",
    "        print(\"\")\n",
    "    print(row[\"instance\"],row[\"val\"],row[\"temps\"],\"\\\\\\\\\")\n"
   ]
  },
  {
   "cell_type": "code",
   "execution_count": null,
   "metadata": {},
   "outputs": [
    {
     "name": "stdout",
     "output_type": "stream",
     "text": [
      "\n",
      "c05100 1974.0 0.014 \\\\\n",
      "c05200 3516.0 0.104 \\\\\n",
      "c10100 1451.0 0.048 \\\\\n",
      "c10200 2852.0 0.122 \\\\\n",
      "c10400 5684.0 0.559 \\\\\n",
      "c15900 11538.0 4.998 \\\\\n",
      "c20100 1300.0 0.098 \\\\\n",
      "c201600 19061.0 21.994 \\\\\n",
      "c20200 2435.0 0.442 \\\\\n",
      "c20400 4897.0 1.198 \\\\\n",
      "c30900 10139.0 10.287 \\\\\n",
      "c401600 17391.0 45.89 \\\\\n",
      "c40400 4315.0 2.982 \\\\\n",
      "c60900 9462.0 24.577 \\\\\n",
      "c801600 16517.0 107.804 \\\\\n",
      "\n",
      "d05100 nan 0.003 \\\\\n",
      "d05200 13598.0 0.02 \\\\\n",
      "d10100 6812.0 0.023 \\\\\n",
      "d10200 13474.0 0.078 \\\\\n",
      "d10400 26999.0 0.296 \\\\\n",
      "d15900 60147.0 2.196 \\\\\n",
      "d20100 6633.0 0.099 \\\\\n",
      "d201600 105963.0 11.644 \\\\\n",
      "d20200 13335.0 0.203 \\\\\n",
      "d20400 26529.0 0.816 \\\\\n",
      "d30900 58961.0 6.69 \\\\\n",
      "d401600 104015.0 27.382 \\\\\n",
      "d40400 26228.0 2.479 \\\\\n",
      "d60900 57638.0 16.469 \\\\\n",
      "d801600 102643.0 68.904 \\\\\n"
     ]
    }
   ],
   "source": [
    "file = 'comp_min_resultats_bonus_rl_depMult_reaffect_stoch_50_5.csv'\n",
    "df = pd.read_csv(\"resultats/comparaison_borne/\" + file)\n",
    "output = []\n",
    "for index, row in df.iterrows():\n",
    "    if index%15==0:\n",
    "        print(\"\")\n",
    "    print(row[\"instance\"],row[\"val\"],row[\"temps\"], \"\\\\\\\\\")\n"
   ]
  }
 ],
 "metadata": {
  "kernelspec": {
   "display_name": "Python 3",
   "language": "python",
   "name": "python3"
  },
  "language_info": {
   "codemirror_mode": {
    "name": "ipython",
    "version": 3
   },
   "file_extension": ".py",
   "mimetype": "text/x-python",
   "name": "python",
   "nbconvert_exporter": "python",
   "pygments_lexer": "ipython3",
   "version": "3.12.6"
  }
 },
 "nbformat": 4,
 "nbformat_minor": 2
}
