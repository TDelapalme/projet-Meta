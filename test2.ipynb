{
 "cells": [
  {
   "cell_type": "code",
   "execution_count": 1,
   "metadata": {},
   "outputs": [],
   "source": [
    "import init_sol\n",
    "import operations_algo_genetique as op\n",
    "import numpy as np"
   ]
  },
  {
   "cell_type": "code",
   "execution_count": 2,
   "metadata": {},
   "outputs": [
    {
     "name": "stdout",
     "output_type": "stream",
     "text": [
      "1319.525\n",
      "2.418548118189919\n",
      "1324\n",
      "1320.55\n",
      "1.0712142642814275\n",
      "1324\n"
     ]
    },
    {
     "data": {
      "text/plain": [
       "\"for sol in new_pop:\\n    print(sol)\\n    print(f'réalisabilité : {Pb1.realisabilite(sol)}')\\n    print(f'opt : {Pb1.evaluate(sol)}')\""
      ]
     },
     "execution_count": 2,
     "metadata": {},
     "output_type": "execute_result"
    }
   ],
   "source": [
    "Pb1 = init_sol.Pb('instances/gap12.txt',0)\n",
    "sol_fam = init_sol.fam_sols(Pb1,'max')\n",
    "\n",
    "\"\"\"for sol in sol_fam:\n",
    "    print(sol)\n",
    "    print(f'opt : {Pb1.evaluate(sol)}')\"\"\"\n",
    "\n",
    "print(np.mean([Pb1.evaluate(sol) for sol in sol_fam]))\n",
    "print(np.std([Pb1.evaluate(sol) for sol in sol_fam]))\n",
    "print(np.max([Pb1.evaluate(sol) for sol in sol_fam]))\n",
    "\n",
    "\n",
    "new_pop = op.new_pop(sol_fam,Pb1)\n",
    "\n",
    "print(np.mean([Pb1.evaluate(sol) for sol in new_pop]))\n",
    "print(np.std([Pb1.evaluate(sol) for sol in new_pop]))\n",
    "print(np.max([Pb1.evaluate(sol) for sol in new_pop]))\n",
    "\n",
    "\"\"\"for sol in new_pop:\n",
    "    print(sol)\n",
    "    print(f'réalisabilité : {Pb1.realisabilite(sol)}')\n",
    "    print(f'opt : {Pb1.evaluate(sol)}')\"\"\""
   ]
  },
  {
   "cell_type": "code",
   "execution_count": null,
   "metadata": {},
   "outputs": [
    {
     "name": "stdout",
     "output_type": "stream",
     "text": [
      "obj sol initiale : 1415\n",
      "pas d'amélioration en  2 s.\n",
      "obj sol finale : 1422\n",
      "obj sol initiale : 1420\n",
      "pas d'amélioration en  2 s.\n",
      "obj sol finale : 1427\n",
      "obj sol initiale : 1420\n",
      "pas d'amélioration en  2 s.\n",
      "obj sol finale : 1427\n",
      "[array([0, 6, 2, 7, 3, 9, 4, 2, 9, 4, 4, 3, 6, 5, 1, 3, 8, 9, 7, 3, 0, 7,\n",
      "       2, 8, 4, 9, 3, 0, 3, 3, 2, 0, 5, 6, 2, 4, 1, 7, 2, 0, 8, 1, 7, 8,\n",
      "       1, 9, 4, 0, 6, 2, 1, 8, 1, 6, 8, 3, 3, 1, 1, 8]), array([0, 4, 2, 7, 3, 9, 9, 6, 0, 4, 4, 3, 6, 5, 1, 3, 8, 6, 7, 9, 0, 3,\n",
      "       2, 8, 4, 9, 3, 0, 3, 3, 2, 0, 5, 8, 1, 4, 1, 7, 2, 9, 9, 1, 7, 8,\n",
      "       8, 4, 2, 2, 6, 2, 1, 8, 1, 6, 0, 3, 3, 1, 7, 8]), array([0, 4, 2, 7, 3, 9, 9, 6, 0, 4, 4, 3, 6, 5, 1, 3, 8, 6, 7, 9, 0, 3,\n",
      "       2, 8, 4, 9, 3, 0, 3, 3, 2, 0, 5, 8, 1, 4, 1, 7, 2, 9, 9, 1, 7, 8,\n",
      "       8, 4, 2, 2, 6, 2, 1, 8, 1, 6, 0, 3, 3, 1, 7, 8])]\n",
      "1425.3333333333333\n",
      "2.3570226039551585\n",
      "1422\n"
     ]
    }
   ],
   "source": [
    "new_pop = op.descente_pop(sol_fam[:3],Pb1)\n",
    "print(new_pop)\n",
    "\n",
    "print(np.mean([Pb1.evaluate(sol) for sol in new_pop]))\n",
    "print(np.std([Pb1.evaluate(sol) for sol in new_pop]))\n",
    "print(np.max([Pb1.evaluate(sol) for sol in new_pop]))"
   ]
  }
 ],
 "metadata": {
  "kernelspec": {
   "display_name": "base",
   "language": "python",
   "name": "python3"
  },
  "language_info": {
   "codemirror_mode": {
    "name": "ipython",
    "version": 3
   },
   "file_extension": ".py",
   "mimetype": "text/x-python",
   "name": "python",
   "nbconvert_exporter": "python",
   "pygments_lexer": "ipython3",
   "version": "3.12.2"
  }
 },
 "nbformat": 4,
 "nbformat_minor": 2
}
