{
 "cells": [
  {
   "cell_type": "code",
   "execution_count": 1,
   "metadata": {},
   "outputs": [],
   "source": [
    "import init_sol\n",
    "import operations_algo_genetique as op\n",
    "import numpy as np\n",
    "import os"
   ]
  },
  {
   "cell_type": "code",
   "execution_count": 2,
   "metadata": {},
   "outputs": [
    {
     "name": "stdout",
     "output_type": "stream",
     "text": [
      "1319.1\n",
      "3.3896902513356584\n",
      "1326\n",
      "1320.6\n",
      "1.5297058540778357\n",
      "1326\n"
     ]
    },
    {
     "data": {
      "text/plain": [
       "\"for sol in new_pop:\\n    print(sol)\\n    print(f'réalisabilité : {Pb1.realisabilite(sol)}')\\n    print(f'opt : {Pb1.evaluate(sol)}')\""
      ]
     },
     "execution_count": 2,
     "metadata": {},
     "output_type": "execute_result"
    }
   ],
   "source": [
    "Pb1 = init_sol.Pb('instances/gap12.txt',0)\n",
    "sol_fam = init_sol.fam_sols(Pb1,'max',20)\n",
    "\n",
    "\"\"\"for sol in sol_fam:\n",
    "    print(sol)\n",
    "    print(f'opt : {Pb1.evaluate(sol)}')\"\"\"\n",
    "\n",
    "print(np.mean([Pb1.evaluate(sol) for sol in sol_fam]))\n",
    "print(np.std([Pb1.evaluate(sol) for sol in sol_fam]))\n",
    "print(np.max([Pb1.evaluate(sol) for sol in sol_fam]))\n",
    "\n",
    "\n",
    "new_pop = op.new_pop(sol_fam,Pb1)\n",
    "\n",
    "print(np.mean([Pb1.evaluate(sol) for sol in new_pop]))\n",
    "print(np.std([Pb1.evaluate(sol) for sol in new_pop]))\n",
    "print(np.max([Pb1.evaluate(sol) for sol in new_pop]))\n",
    "\n",
    "\"\"\"for sol in new_pop:\n",
    "    print(sol)\n",
    "    print(f'réalisabilité : {Pb1.realisabilite(sol)}')\n",
    "    print(f'opt : {Pb1.evaluate(sol)}')\"\"\""
   ]
  },
  {
   "cell_type": "code",
   "execution_count": 3,
   "metadata": {},
   "outputs": [],
   "source": [
    "Pb1 = init_sol.Pb('instances/gap12.txt',4)\n",
    "sol_fam = init_sol.fam_sols(Pb1,'max',20)\n",
    "#print(op.best_element(sol_fam,Pb1,'max'))\n",
    "#op.evolution(Pb1)"
   ]
  },
  {
   "cell_type": "code",
   "execution_count": null,
   "metadata": {},
   "outputs": [
    {
     "name": "stdout",
     "output_type": "stream",
     "text": [
      "gap1 1\n",
      "Stagnation de la meilleure solution.\n",
      "Best sur l evolution :  [4 1 3 2 0 4 0 1 0 3 3 3 1 0 2] 334\n",
      "Realisabilité : 0\n"
     ]
    }
   ],
   "source": [
    "results = {}\n",
    "files = [f'gap{i}.txt' for i in range(1,13)]\n",
    "\n",
    "for file in files:\n",
    "    instance = file[:-4]\n",
    "    results[instance] = {}\n",
    "    for id in range(5):\n",
    "        print(instance,id+1)\n",
    "        results[instance][id] = [-1,-1]\n",
    "        Pb1 = init_sol.Pb(\"instances/\"+file, id)\n",
    "        sol_fam = init_sol.fam_sols(Pb1,'max',20)\n",
    "        results[instance][id] = (op.best_element(sol_fam,Pb1,'max'),op.evolution(Pb1,20,10))\n",
    "        #print(results[instance][id][1][0])\n",
    "        print(f'Realisabilité : {Pb1.realisabilite(results[instance][id][1][0])}')\n",
    "        #print(f'opt : {results[instance][id][1][1]}')"
   ]
  },
  {
   "cell_type": "code",
   "execution_count": 5,
   "metadata": {},
   "outputs": [
    {
     "name": "stdout",
     "output_type": "stream",
     "text": [
      "876\n",
      "[4 6 2 5 3 0 4 7 7 3 1 7 8 9 2 3 0 0 6 5 5 4 6 1 3 1 3 7 6 3 0 2 5 4 8 1 2\n",
      " 5 9 4]\n",
      "obj sol finale : 943\n"
     ]
    }
   ],
   "source": [
    "import recherche_taboue as rt\n",
    "import voisinage as v\n",
    "\n",
    "Pb1 = init_sol.Pb(\"instances/gap10.txt\", 0)\n",
    "# param recherche tabou\n",
    "taille_liste = int(Pb1.t/4)\n",
    "fn_init = init_sol.sol_gloutonne_2\n",
    "fn_rt = rt.recherche_taboue\n",
    "critere_tabou = rt.tabou_liste_tache_reaffectation\n",
    "initialisation = False\n",
    "aspiration = True\n",
    "timeMax = 2\n",
    "timeMaxAmelio = 0.1\n",
    "critere = 'max'\n",
    "\n",
    "if critere == 'max':\n",
    "    fn_un_pas = rt.montee_un_pas_tabou_reaffect_nvl_agent\n",
    "    fn_un_pas_ls = v.montee_reaffectation_un_pas\n",
    "\n",
    "else :\n",
    "    fn_un_pas = rt.descente_un_pas_tabou_reaffect_nvl_agent\n",
    "    fn_un_pas_ls = v.descente_reaffectation_un_pas\n",
    "\n",
    "fn_init = init_sol.sol_gloutonne_2\n",
    "#fn_un_pas = rt.montee_un_pas_tabou_swap\n",
    "#fn_rt = rt.recherche_taboue_int_div_2\n",
    "#fn_un_pas_ls = v.un_pas_swap\n",
    "#critere_tabou = rt.tabou_liste_1_swap\n",
    "taille_liste = Pb1.t//4\n",
    "initialisation = False\n",
    "critere = 'max'\n",
    "aspiration = True\n",
    "timeMax = 25\n",
    "timeMaxAmelio = 1\n",
    "\n",
    "\n",
    "    \n",
    "\n",
    "Pb1.x = init_sol.sol_gloutonne_stoch_4(Pb1,'max')\n",
    "print(Pb1.eval())\n",
    "best_f, best_x, _, _ = rt.recherche_taboue_timeMax(Pb1, fn_rt, fn_init, fn_un_pas, fn_un_pas_ls,critere_tabou, taille_liste, init = initialisation,\n",
    "                                                                aspiration = aspiration, critere = critere, timeMax = timeMax,\n",
    "                                                                timeMaxAmelio=timeMaxAmelio)\n",
    "\n",
    "print(best_x)\n",
    "print(f'obj sol finale : {best_f}')"
   ]
  },
  {
   "cell_type": "code",
   "execution_count": 6,
   "metadata": {},
   "outputs": [
    {
     "name": "stdout",
     "output_type": "stream",
     "text": [
      "gap1 0 23\n",
      "334\n"
     ]
    }
   ],
   "source": [
    "for instance in results.keys():\n",
    "    for id in results[instance].keys():\n",
    "        print(instance,id,results[instance][id][1][1]-results[instance][id][0][1])\n",
    "        print(results[instance][id][1][1])"
   ]
  }
 ],
 "metadata": {
  "kernelspec": {
   "display_name": "base",
   "language": "python",
   "name": "python3"
  },
  "language_info": {
   "codemirror_mode": {
    "name": "ipython",
    "version": 3
   },
   "file_extension": ".py",
   "mimetype": "text/x-python",
   "name": "python",
   "nbconvert_exporter": "python",
   "pygments_lexer": "ipython3",
   "version": "3.12.2"
  }
 },
 "nbformat": 4,
 "nbformat_minor": 2
}
