{
 "cells": [
  {
   "cell_type": "code",
   "execution_count": 1,
   "metadata": {},
   "outputs": [],
   "source": [
    "import init_sol\n",
    "import operations_algo_genetique as op\n",
    "import numpy as np\n",
    "import time\n",
    "import os\n",
    "import csv"
   ]
  },
  {
   "cell_type": "code",
   "execution_count": 2,
   "metadata": {},
   "outputs": [
    {
     "name": "stdout",
     "output_type": "stream",
     "text": [
      "301.0\n",
      "6.058052492344384\n",
      "311\n",
      "303.65\n",
      "2.903015673398957\n",
      "311\n"
     ]
    },
    {
     "data": {
      "text/plain": [
       "\"for sol in new_pop:\\n    print(sol)\\n    print(f'réalisabilité : {Pb1.realisabilite(sol)}')\\n    print(f'opt : {Pb1.evaluate(sol)}')\""
      ]
     },
     "execution_count": 2,
     "metadata": {},
     "output_type": "execute_result"
    }
   ],
   "source": [
    "Pb1 = init_sol.Pb('instances/gap1.txt',0)\n",
    "sol_fam = init_sol.fam_sols(Pb1,'max',20)\n",
    "\n",
    "\"\"\"for sol in sol_fam:\n",
    "    print(sol)\n",
    "    print(f'opt : {Pb1.evaluate(sol)}')\"\"\"\n",
    "\n",
    "print(np.mean([Pb1.evaluate(sol) for sol in sol_fam]))\n",
    "print(np.std([Pb1.evaluate(sol) for sol in sol_fam]))\n",
    "print(np.max([Pb1.evaluate(sol) for sol in sol_fam]))\n",
    "\n",
    "\n",
    "new_pop = op.new_pop(sol_fam,Pb1)\n",
    "\n",
    "print(np.mean([Pb1.evaluate(sol) for sol in new_pop]))\n",
    "print(np.std([Pb1.evaluate(sol) for sol in new_pop]))\n",
    "print(np.max([Pb1.evaluate(sol) for sol in new_pop]))\n",
    "\n",
    "\"\"\"for sol in new_pop:\n",
    "    print(sol)\n",
    "    print(f'réalisabilité : {Pb1.realisabilite(sol)}')\n",
    "    print(f'opt : {Pb1.evaluate(sol)}')\"\"\""
   ]
  },
  {
   "cell_type": "code",
   "execution_count": 3,
   "metadata": {},
   "outputs": [
    {
     "data": {
      "text/plain": [
       "\"Pb1 = init_sol.Pb('instances/gapd.txt',0)\\nsol_fam = init_sol.fam_sols(Pb1,'min',10)\\nprint(sol_fam)\\nprint(len(sol_fam))\""
      ]
     },
     "execution_count": 3,
     "metadata": {},
     "output_type": "execute_result"
    }
   ],
   "source": [
    "\"\"\"Pb1 = init_sol.Pb('instances/gapd.txt',0)\n",
    "sol_fam = init_sol.fam_sols(Pb1,'min',10)\n",
    "print(sol_fam)\n",
    "print(len(sol_fam))\"\"\"\n",
    "#print(op.best_element(sol_fam,Pb1,'min'))\n",
    "#op.evolution(Pb1)"
   ]
  },
  {
   "cell_type": "markdown",
   "metadata": {},
   "source": [
    "Instances de minimisation"
   ]
  },
  {
   "cell_type": "code",
   "execution_count": null,
   "metadata": {},
   "outputs": [
    {
     "name": "stdout",
     "output_type": "stream",
     "text": [
      "instances/gapd.txt 0\n"
     ]
    }
   ],
   "source": [
    "max_time = 10\n",
    "max_amelio = 0.1\n",
    "taille_pop = 20\n",
    "Nb_gen_max = 100\n",
    "alpha = 0.5\n",
    "\n",
    "file = 'instances/gapd.txt'\n",
    "id = 0\n",
    "\n",
    "print(file,id)\n",
    "Pb1 = init_sol.Pb(file, id)\n",
    "\n",
    "\"\"\"sol_fam = init_sol.fam_sols(Pb1,'min',taille_pop)\n",
    "print(sol_fam)\n",
    "print(len(sol_fam))\"\"\"\n",
    "\n",
    "start = time.time()\n",
    "final_sol = op.evolution(Pb1,taille_pop,Nb_gen_max,max_time,max_amelio,alpha_mutation=alpha,critere='min')\n",
    "#print('Réalisabilité : ',Pb1.realisabilite(final_sol[0]))\n",
    "print(final_sol[-1][1])\n",
    "print(f'Temps de calcul :{time.time()-start:.2f}s')"
   ]
  },
  {
   "cell_type": "code",
   "execution_count": null,
   "metadata": {},
   "outputs": [],
   "source": [
    "Pb1 = init_sol.Pb('instances/gap_c/c30900',0)\n",
    "\n",
    "start = time.time()\n",
    "sol_fam = init_sol.fam_sols(Pb1,'min',20)\n",
    "print(f'Temps de calcul :{time.time()-start:.2f}s')"
   ]
  },
  {
   "cell_type": "code",
   "execution_count": null,
   "metadata": {},
   "outputs": [
    {
     "data": {
      "text/plain": [
       "'max_time = 10\\nmax_amelio = 0.1\\ntaille_pop = 40\\nNb_gen_max = 20\\n\\nresults = {}\\nfiles = [f\\'gap{i}.txt\\' for i in range(1,13)]\\n\\nfor file in files:\\n    instance = file[:-4]\\n    results[instance] = {}\\n    for id in range(5):\\n        print(instance,id+1)\\n        results[instance][id] = [-1,-1]\\n        Pb1 = init_sol.Pb(\"instances/\"+file, id)\\n        results[instance][id] = op.evolution(Pb1,taille_pop,Nb_gen_max,max_time,max_amelio,alpha_mutation=0.9,critere=\\'max\\')\\n        #print(results[instance][id][1][0])\\n        print(f\\'Realisabilité : {Pb1.realisabilite(results[instance][id][1][0])}\\')\\n        #print(f\\'opt : {results[instance][id][1][1]}\\')'"
      ]
     },
     "execution_count": 6,
     "metadata": {},
     "output_type": "execute_result"
    }
   ],
   "source": [
    "\"\"\"max_time = 10\n",
    "max_amelio = 0.1\n",
    "taille_pop = 40\n",
    "Nb_gen_max = 20\n",
    "\n",
    "results = {}\n",
    "files = [f'gap{i}.txt' for i in range(1,13)]\n",
    "\n",
    "for file in files:\n",
    "    instance = file[:-4]\n",
    "    results[instance] = {}\n",
    "    for id in range(5):\n",
    "        print(instance,id+1)\n",
    "        results[instance][id] = [-1,-1]\n",
    "        Pb1 = init_sol.Pb(\"instances/\"+file, id)\n",
    "        results[instance][id] = op.evolution(Pb1,taille_pop,Nb_gen_max,max_time,max_amelio,alpha_mutation=0.9,critere='max')\n",
    "        #print(results[instance][id][1][0])\n",
    "        print(f'Realisabilité : {Pb1.realisabilite(results[instance][id][1][0])}')\n",
    "        #print(f'opt : {results[instance][id][1][1]}')\"\"\""
   ]
  },
  {
   "cell_type": "code",
   "execution_count": null,
   "metadata": {},
   "outputs": [
    {
     "name": "stdout",
     "output_type": "stream",
     "text": [
      "Processing gap1 run 0\n",
      "Processing gap1 run 1\n",
      "Processing gap1 run 2\n",
      "Processing gap1 run 3\n",
      "Processing gap1 run 4\n",
      "Processing gap2 run 0\n",
      "Processing gap2 run 1\n"
     ]
    }
   ],
   "source": [
    "import csv\n",
    "\n",
    "max_time = 10\n",
    "max_amelio = 0.1\n",
    "taille_pop = 20\n",
    "Nb_gen_max = 100\n",
    "\n",
    "\n",
    "# List of all files (instances) to process\n",
    "files = [f'gap{i}.txt' for i in range(1, 13)]\n",
    "\n",
    "# Initialize data storage for each instance's results\n",
    "all_results = []\n",
    "\n",
    "# Run the evolution process for each file and collect optimal evaluation values\n",
    "for file in files:\n",
    "    instance = file[:-4]\n",
    "    for id in range(5):\n",
    "        print(f\"Processing {instance} run {id}\")\n",
    "        Pb1 = init_sol.Pb(\"instances/\" + file, id)\n",
    "\n",
    "        # Run the evolution function and get the list of best solutions (Bests)\n",
    "        s = time.time()\n",
    "        Bests = op.evolution(Pb1,taille_pop,Nb_gen_max,max_time,max_amelio,alpha_mutation=alpha,critere='max')\n",
    "        delta = time.time() - s\n",
    "        # Extract only the evaluation values from the Bests list\n",
    "        best_evals = [best[1] for best in Bests]  # Collect only evaluation values\n",
    "\n",
    "        # Save instance name, run ID, and best evaluation values to all_results\n",
    "        all_results.append([instance, id + 1] + best_evals + [str(delta)])\n",
    "\n",
    "# Define headers for CSV, including generation numbers for optimal values\n",
    "headers = [\"Instance\", \"Run_ID\"] + [f\"Gen_{i}\" for i in range(np.max([len(best_evals) for best_evals in all_results[2:]]))]\n",
    "\n",
    "# Write the results to a single CSV file\n",
    "with open(\"resultats_T/optimal_evaluations.csv\", mode=\"w\", newline=\"\") as file:\n",
    "    writer = csv.writer(file)\n",
    "    writer.writerow(headers)  # Write the header row\n",
    "    writer.writerows(all_results)  # Write all instance results\n",
    "\n",
    "print(\"Optimal evaluation results have been saved to optimal_evaluations.csv\")"
   ]
  },
  {
   "cell_type": "code",
   "execution_count": null,
   "metadata": {},
   "outputs": [
    {
     "data": {
      "text/plain": [
       "'\\nfiles = [f\\'gap{i}.txt\\' for i in [\\'a\\',\\'b\\',\\'c\\',\\'d\\']]\\nmax_time = 10\\nmax_amelio = 0.1\\ntaille_pop = 40\\nNb_gen_max = 20\\n\\n# Initialize data storage for each instance\\'s results\\nresults_min = []\\n\\n# Run the evolution process for each file and collect optimal evaluation values\\nfor file in files:\\n    instance = file[:-4]\\n    for id in range(6):\\n        if not (file==\\'gapd.txt\\' and id==0):\\n            print(f\"Processing {instance} run {id + 1}\")\\n            Pb1 = init_sol.Pb(\"instances/\" + file, id)\\n\\n            # Run the evolution function and get the list of best solutions (Bests)\\n            Bests = op.evolution(Pb1,taille_pop,Nb_gen_max,max_time,max_amelio,alpha_mutation=alpha,critere=\\'min\\')\\n            # Extract only the evaluation values from the Bests list\\n            best_evals = [best[1] for best in Bests]  # Collect only evaluation values\\n\\n            # Save instance name, run ID, and best evaluation values to all_results\\n            results_min.append([instance, id + 1] + best_evals)\\n\\n# Define headers for CSV, including generation numbers for optimal values\\nheaders = [\"Instance\", \"Run_ID\"] + [f\"Gen_{i}\" for i in range(np.max([len(best_evals) for best_evals in results_min[2:]]))]\\n\\n# Write the results to a single CSV file\\nwith open(\"resultats_T/optimal_evaluations_min.csv\", mode=\"w\", newline=\"\") as file:\\n    writer = csv.writer(file)\\n    writer.writerow(headers)  # Write the header row\\n    writer.writerows(results_min)  # Write all instance results\\n\\nprint(\"Optimal evaluation results have been saved to optimal_evaluations.csv\")'"
      ]
     },
     "execution_count": 8,
     "metadata": {},
     "output_type": "execute_result"
    }
   ],
   "source": [
    "files = [f'gap{i}.txt' for i in ['a','b','c','d']]\n",
    "max_time = 10\n",
    "max_amelio = 0.1\n",
    "taille_pop = 20\n",
    "Nb_gen_max = 100\n",
    "\n",
    "# Initialize data storage for each instance's results\n",
    "results_min = []\n",
    "\n",
    "# Run the evolution process for each file and collect optimal evaluation values\n",
    "for file in files:\n",
    "    instance = file[:-4]\n",
    "    for id in range(6):\n",
    "        if not (file=='gapd.txt' and id==10):\n",
    "            print(f\"Processing {instance} run {id}\")\n",
    "            Pb1 = init_sol.Pb(\"instances/\" + file, id)\n",
    "\n",
    "            # Run the evolution function and get the list of best solutions (Bests)\n",
    "            s = time.time()\n",
    "            Bests = op.evolution(Pb1,taille_pop,Nb_gen_max,max_time,max_amelio,alpha_mutation=alpha,critere='min')\n",
    "            delta = time.time() - s\n",
    "            # Extract only the evaluation values from the Bests list\n",
    "            best_evals = [best[1] for best in Bests]  # Collect only evaluation values\n",
    "\n",
    "            # Save instance name, run ID, and best evaluation values to all_results\n",
    "            results_min.append([instance, id + 1] + best_evals + [str(delta)])\n",
    "\n",
    "# Define headers for CSV, including generation numbers for optimal values\n",
    "headers = [\"Instance\", \"Run_ID\"] + [f\"Gen_{i}\" for i in range(np.max([len(best_evals) for best_evals in results_min[2:]]))]\n",
    "\n",
    "# Write the results to a single CSV file\n",
    "with open(\"resultats_T/optimal_evaluations_min.csv\", mode=\"w\", newline=\"\") as file:\n",
    "    writer = csv.writer(file)\n",
    "    writer.writerow(headers)  # Write the header row\n",
    "    writer.writerows(results_min)  # Write all instance results\n",
    "\n",
    "print(\"Optimal evaluation results have been saved to optimal_evaluations.csv\")"
   ]
  },
  {
   "cell_type": "code",
   "execution_count": null,
   "metadata": {},
   "outputs": [
    {
     "name": "stdout",
     "output_type": "stream",
     "text": [
      "Running gap_c/ c40400\n",
      "Running gap_c/ c401600\n",
      "Pas de solution gloutonne trouvée dans le temps imparti\n",
      "Running gap_c/ c10400\n",
      "Running gap_c/ c801600\n",
      "Pas de solution gloutonne trouvée dans le temps imparti\n",
      "Running gap_c/ c20400\n",
      "Running gap_c/ c15900\n",
      "Running gap_c/ c60900\n",
      "Running gap_c/ c30900\n",
      "Running gap_c/ c201600\n",
      "Running gap_c/ c05200\n",
      "Running gap_c/ c20200\n",
      "Running gap_c/ c10200\n",
      "Running gap_c/ c05100\n",
      "Running gap_c/ c20100\n",
      "Running gap_c/ c10100\n",
      "Running gap_d/ d201600\n",
      "Running gap_d/ d30900\n",
      "Running gap_d/ d60900\n",
      "Running gap_d/ d15900\n",
      "Running gap_d/ d801600\n",
      "Pas de solution gloutonne trouvée dans le temps imparti\n",
      "Running gap_d/ d10400\n",
      "Running gap_d/ d401600\n",
      "Pas de solution gloutonne trouvée dans le temps imparti\n",
      "Running gap_d/ d20400\n",
      "Running gap_d/ d40400\n",
      "Running gap_d/ d20100\n",
      "Running gap_d/ d10100\n",
      "Running gap_d/ d05100\n"
     ]
    },
    {
     "ename": "KeyboardInterrupt",
     "evalue": "",
     "output_type": "error",
     "traceback": [
      "\u001b[0;31m---------------------------------------------------------------------------\u001b[0m",
      "\u001b[0;31mKeyboardInterrupt\u001b[0m                         Traceback (most recent call last)",
      "Cell \u001b[0;32mIn[9], line 15\u001b[0m\n\u001b[1;32m     13\u001b[0m \u001b[38;5;28mprint\u001b[39m(\u001b[38;5;124mf\u001b[39m\u001b[38;5;124m\"\u001b[39m\u001b[38;5;124mRunning \u001b[39m\u001b[38;5;132;01m{\u001b[39;00m\u001b[38;5;28mdir\u001b[39m\u001b[38;5;132;01m}\u001b[39;00m\u001b[38;5;124m \u001b[39m\u001b[38;5;132;01m{\u001b[39;00mfile\u001b[38;5;132;01m}\u001b[39;00m\u001b[38;5;124m\"\u001b[39m)\n\u001b[1;32m     14\u001b[0m \u001b[38;5;66;03m# Run the evolution function and get the list of best solutions (Bests)\u001b[39;00m\n\u001b[0;32m---> 15\u001b[0m Bests \u001b[38;5;241m=\u001b[39m \u001b[43mop\u001b[49m\u001b[38;5;241;43m.\u001b[39;49m\u001b[43mevolution\u001b[49m\u001b[43m(\u001b[49m\u001b[43mPb1\u001b[49m\u001b[43m,\u001b[49m\u001b[43mtaille_pop\u001b[49m\u001b[43m,\u001b[49m\u001b[43mNb_gen_max\u001b[49m\u001b[43m,\u001b[49m\u001b[43mmax_time\u001b[49m\u001b[43m,\u001b[49m\u001b[43mmax_amelio\u001b[49m\u001b[43m,\u001b[49m\u001b[43malpha_mutation\u001b[49m\u001b[38;5;241;43m=\u001b[39;49m\u001b[43malpha\u001b[49m\u001b[43m,\u001b[49m\u001b[43mcritere\u001b[49m\u001b[38;5;241;43m=\u001b[39;49m\u001b[38;5;124;43m'\u001b[39;49m\u001b[38;5;124;43mmin\u001b[39;49m\u001b[38;5;124;43m'\u001b[39;49m\u001b[43m)\u001b[49m\n\u001b[1;32m     16\u001b[0m \u001b[38;5;66;03m# Extract only the evaluation values from the Bests list\u001b[39;00m\n\u001b[1;32m     17\u001b[0m \u001b[38;5;28;01mif\u001b[39;00m Bests \u001b[38;5;241m==\u001b[39m \u001b[38;5;28;01mNone\u001b[39;00m:\n",
      "File \u001b[0;32m~/Documents/MPRO/Metaheuristique/projet Meta/operations_algo_genetique.py:194\u001b[0m, in \u001b[0;36mevolution\u001b[0;34m(Pb, N_init, N_gen_max, max_tot_time, max_amelio_time, alpha_mutation, critere, verbose)\u001b[0m\n\u001b[1;32m    192\u001b[0m \u001b[38;5;28;01mdef\u001b[39;00m \u001b[38;5;21mevolution\u001b[39m(Pb, N_init, N_gen_max, max_tot_time, max_amelio_time, alpha_mutation\u001b[38;5;241m=\u001b[39m\u001b[38;5;241m0.1\u001b[39m, critere\u001b[38;5;241m=\u001b[39m\u001b[38;5;124m'\u001b[39m\u001b[38;5;124mmax\u001b[39m\u001b[38;5;124m'\u001b[39m, verbose\u001b[38;5;241m=\u001b[39m\u001b[38;5;28;01mFalse\u001b[39;00m):\n\u001b[1;32m    193\u001b[0m     Bests \u001b[38;5;241m=\u001b[39m []\n\u001b[0;32m--> 194\u001b[0m     pop_init \u001b[38;5;241m=\u001b[39m \u001b[43minit_sol\u001b[49m\u001b[38;5;241;43m.\u001b[39;49m\u001b[43mfam_sols\u001b[49m\u001b[43m(\u001b[49m\u001b[43mPb\u001b[49m\u001b[43m,\u001b[49m\u001b[43m \u001b[49m\u001b[43mcritere\u001b[49m\u001b[43m,\u001b[49m\u001b[43m \u001b[49m\u001b[43mN_init\u001b[49m\u001b[43m)\u001b[49m\n\u001b[1;32m    195\u001b[0m     \u001b[38;5;28;01mif\u001b[39;00m pop_init[\u001b[38;5;241m0\u001b[39m] \u001b[38;5;241m==\u001b[39m \u001b[38;5;28;01mNone\u001b[39;00m:\n\u001b[1;32m    196\u001b[0m         \u001b[38;5;28mprint\u001b[39m(\u001b[38;5;124m\"\u001b[39m\u001b[38;5;124mPas de solution gloutonne trouvée dans le temps imparti\u001b[39m\u001b[38;5;124m\"\u001b[39m)\n",
      "File \u001b[0;32m~/Documents/MPRO/Metaheuristique/projet Meta/init_sol.py:176\u001b[0m, in \u001b[0;36mfam_sols\u001b[0;34m(Pb, critere, N)\u001b[0m\n\u001b[1;32m    174\u001b[0m if sol_1:\n\u001b[1;32m    175\u001b[0m     return sol_1\n\u001b[0;32m--> 176\u001b[0m else:\n\u001b[1;32m    177\u001b[0m     sorted_affectations = sort_affectations_crit_moindre_ressources(Pb)\n\u001b[1;32m    178\u001b[0m     sol = [-1] * t\n",
      "File \u001b[0;32m/opt/miniconda3/lib/python3.12/concurrent/futures/_base.py:647\u001b[0m, in \u001b[0;36mExecutor.__exit__\u001b[0;34m(self, exc_type, exc_val, exc_tb)\u001b[0m\n\u001b[1;32m    646\u001b[0m \u001b[38;5;28;01mdef\u001b[39;00m \u001b[38;5;21m__exit__\u001b[39m(\u001b[38;5;28mself\u001b[39m, exc_type, exc_val, exc_tb):\n\u001b[0;32m--> 647\u001b[0m     \u001b[38;5;28;43mself\u001b[39;49m\u001b[38;5;241;43m.\u001b[39;49m\u001b[43mshutdown\u001b[49m\u001b[43m(\u001b[49m\u001b[43mwait\u001b[49m\u001b[38;5;241;43m=\u001b[39;49m\u001b[38;5;28;43;01mTrue\u001b[39;49;00m\u001b[43m)\u001b[49m\n\u001b[1;32m    648\u001b[0m     \u001b[38;5;28;01mreturn\u001b[39;00m \u001b[38;5;28;01mFalse\u001b[39;00m\n",
      "File \u001b[0;32m/opt/miniconda3/lib/python3.12/concurrent/futures/process.py:873\u001b[0m, in \u001b[0;36mProcessPoolExecutor.shutdown\u001b[0;34m(self, wait, cancel_futures)\u001b[0m\n\u001b[1;32m    870\u001b[0m         \u001b[38;5;28mself\u001b[39m\u001b[38;5;241m.\u001b[39m_executor_manager_thread_wakeup\u001b[38;5;241m.\u001b[39mwakeup()\n\u001b[1;32m    872\u001b[0m \u001b[38;5;28;01mif\u001b[39;00m \u001b[38;5;28mself\u001b[39m\u001b[38;5;241m.\u001b[39m_executor_manager_thread \u001b[38;5;129;01mis\u001b[39;00m \u001b[38;5;129;01mnot\u001b[39;00m \u001b[38;5;28;01mNone\u001b[39;00m \u001b[38;5;129;01mand\u001b[39;00m wait:\n\u001b[0;32m--> 873\u001b[0m     \u001b[38;5;28;43mself\u001b[39;49m\u001b[38;5;241;43m.\u001b[39;49m\u001b[43m_executor_manager_thread\u001b[49m\u001b[38;5;241;43m.\u001b[39;49m\u001b[43mjoin\u001b[49m\u001b[43m(\u001b[49m\u001b[43m)\u001b[49m\n\u001b[1;32m    874\u001b[0m \u001b[38;5;66;03m# To reduce the risk of opening too many files, remove references to\u001b[39;00m\n\u001b[1;32m    875\u001b[0m \u001b[38;5;66;03m# objects that use file descriptors.\u001b[39;00m\n\u001b[1;32m    876\u001b[0m \u001b[38;5;28mself\u001b[39m\u001b[38;5;241m.\u001b[39m_executor_manager_thread \u001b[38;5;241m=\u001b[39m \u001b[38;5;28;01mNone\u001b[39;00m\n",
      "File \u001b[0;32m/opt/miniconda3/lib/python3.12/threading.py:1147\u001b[0m, in \u001b[0;36mThread.join\u001b[0;34m(self, timeout)\u001b[0m\n\u001b[1;32m   1144\u001b[0m     \u001b[38;5;28;01mraise\u001b[39;00m \u001b[38;5;167;01mRuntimeError\u001b[39;00m(\u001b[38;5;124m\"\u001b[39m\u001b[38;5;124mcannot join current thread\u001b[39m\u001b[38;5;124m\"\u001b[39m)\n\u001b[1;32m   1146\u001b[0m \u001b[38;5;28;01mif\u001b[39;00m timeout \u001b[38;5;129;01mis\u001b[39;00m \u001b[38;5;28;01mNone\u001b[39;00m:\n\u001b[0;32m-> 1147\u001b[0m     \u001b[38;5;28;43mself\u001b[39;49m\u001b[38;5;241;43m.\u001b[39;49m\u001b[43m_wait_for_tstate_lock\u001b[49m\u001b[43m(\u001b[49m\u001b[43m)\u001b[49m\n\u001b[1;32m   1148\u001b[0m \u001b[38;5;28;01melse\u001b[39;00m:\n\u001b[1;32m   1149\u001b[0m     \u001b[38;5;66;03m# the behavior of a negative timeout isn't documented, but\u001b[39;00m\n\u001b[1;32m   1150\u001b[0m     \u001b[38;5;66;03m# historically .join(timeout=x) for x<0 has acted as if timeout=0\u001b[39;00m\n\u001b[1;32m   1151\u001b[0m     \u001b[38;5;28mself\u001b[39m\u001b[38;5;241m.\u001b[39m_wait_for_tstate_lock(timeout\u001b[38;5;241m=\u001b[39m\u001b[38;5;28mmax\u001b[39m(timeout, \u001b[38;5;241m0\u001b[39m))\n",
      "File \u001b[0;32m/opt/miniconda3/lib/python3.12/threading.py:1167\u001b[0m, in \u001b[0;36mThread._wait_for_tstate_lock\u001b[0;34m(self, block, timeout)\u001b[0m\n\u001b[1;32m   1164\u001b[0m     \u001b[38;5;28;01mreturn\u001b[39;00m\n\u001b[1;32m   1166\u001b[0m \u001b[38;5;28;01mtry\u001b[39;00m:\n\u001b[0;32m-> 1167\u001b[0m     \u001b[38;5;28;01mif\u001b[39;00m \u001b[43mlock\u001b[49m\u001b[38;5;241;43m.\u001b[39;49m\u001b[43macquire\u001b[49m\u001b[43m(\u001b[49m\u001b[43mblock\u001b[49m\u001b[43m,\u001b[49m\u001b[43m \u001b[49m\u001b[43mtimeout\u001b[49m\u001b[43m)\u001b[49m:\n\u001b[1;32m   1168\u001b[0m         lock\u001b[38;5;241m.\u001b[39mrelease()\n\u001b[1;32m   1169\u001b[0m         \u001b[38;5;28mself\u001b[39m\u001b[38;5;241m.\u001b[39m_stop()\n",
      "\u001b[0;31mKeyboardInterrupt\u001b[0m: "
     ]
    }
   ],
   "source": [
    "max_time = 10\n",
    "max_amelio = 0.1\n",
    "taille_pop = 40\n",
    "Nb_gen_max = 20\n",
    "\n",
    "# Initialize data storage for each instance's results\n",
    "results_min = []\n",
    "\n",
    "for dir in [\"gap_c/\", \"gap_d/\"]:\n",
    "    for file in os.listdir('instances/' + dir):\n",
    "        instance = file\n",
    "        Pb1 = init_sol.Pb('instances/'+ dir+ file, 0)\n",
    "        print(f\"Running {dir} {file}\")\n",
    "        # Run the evolution function and get the list of best solutions (Bests)\n",
    "        Bests = op.evolution(Pb1,taille_pop,Nb_gen_max,max_time,max_amelio,alpha_mutation=alpha,critere='min')\n",
    "        # Extract only the evaluation values from the Bests list\n",
    "        if Bests == None:\n",
    "            best_evals = None\n",
    "            results_min.append([dir, file])\n",
    "        else:\n",
    "            best_evals = [best[1] for best in Bests]  # Collect only evaluation values\n",
    "            results_min.append([dir, file] + best_evals)\n",
    "\n",
    "# Define headers for CSV, including generation numbers for optimal values\n",
    "headers = [\"dir\", \"file\"] + [f\"Gen_{i}\" for i in range(np.max([len(best_evals) for best_evals in results_min[2:]]))]\n",
    "\n",
    "# Write the results to a single CSV file\n",
    "with open(\"resultats_T/optimal_evaluations_new_i.csv\", mode=\"w\", newline=\"\") as file:\n",
    "    writer = csv.writer(file)\n",
    "    writer.writerow(headers)  # Write the header row\n",
    "    writer.writerows(results_min)  # Write all instance results\n",
    "\n",
    "print(\"Optimal evaluation results have been saved to optimal_evaluations.csv\")"
   ]
  }
 ],
 "metadata": {
  "kernelspec": {
   "display_name": "base",
   "language": "python",
   "name": "python3"
  },
  "language_info": {
   "codemirror_mode": {
    "name": "ipython",
    "version": 3
   },
   "file_extension": ".py",
   "mimetype": "text/x-python",
   "name": "python",
   "nbconvert_exporter": "python",
   "pygments_lexer": "ipython3",
   "version": "3.12.2"
  }
 },
 "nbformat": 4,
 "nbformat_minor": 2
}
