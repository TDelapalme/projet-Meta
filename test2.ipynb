{
 "cells": [
  {
   "cell_type": "code",
   "execution_count": 1,
   "metadata": {},
   "outputs": [],
   "source": [
    "import init_sol\n",
    "import operations_algo_genetique as op\n",
    "import numpy as np\n",
    "import os"
   ]
  },
  {
   "cell_type": "code",
   "execution_count": 2,
   "metadata": {},
   "outputs": [
    {
     "name": "stdout",
     "output_type": "stream",
     "text": [
      "1319.55\n",
      "2.4181604578687494\n",
      "1326\n",
      "1320.5\n",
      "1.5329709716755893\n",
      "1326\n"
     ]
    },
    {
     "data": {
      "text/plain": [
       "\"for sol in new_pop:\\n    print(sol)\\n    print(f'réalisabilité : {Pb1.realisabilite(sol)}')\\n    print(f'opt : {Pb1.evaluate(sol)}')\""
      ]
     },
     "execution_count": 2,
     "metadata": {},
     "output_type": "execute_result"
    }
   ],
   "source": [
    "Pb1 = init_sol.Pb('instances/gap12.txt',0)\n",
    "sol_fam = init_sol.fam_sols(Pb1,'max')\n",
    "\n",
    "\"\"\"for sol in sol_fam:\n",
    "    print(sol)\n",
    "    print(f'opt : {Pb1.evaluate(sol)}')\"\"\"\n",
    "\n",
    "print(np.mean([Pb1.evaluate(sol) for sol in sol_fam]))\n",
    "print(np.std([Pb1.evaluate(sol) for sol in sol_fam]))\n",
    "print(np.max([Pb1.evaluate(sol) for sol in sol_fam]))\n",
    "\n",
    "\n",
    "new_pop = op.new_pop(sol_fam,Pb1)\n",
    "\n",
    "print(np.mean([Pb1.evaluate(sol) for sol in new_pop]))\n",
    "print(np.std([Pb1.evaluate(sol) for sol in new_pop]))\n",
    "print(np.max([Pb1.evaluate(sol) for sol in new_pop]))\n",
    "\n",
    "\"\"\"for sol in new_pop:\n",
    "    print(sol)\n",
    "    print(f'réalisabilité : {Pb1.realisabilite(sol)}')\n",
    "    print(f'opt : {Pb1.evaluate(sol)}')\"\"\""
   ]
  },
  {
   "cell_type": "code",
   "execution_count": 3,
   "metadata": {},
   "outputs": [
    {
     "name": "stdout",
     "output_type": "stream",
     "text": [
      "(10, np.int64(1297))\n"
     ]
    },
    {
     "data": {
      "text/plain": [
       "(16, np.int64(1416))"
      ]
     },
     "execution_count": 3,
     "metadata": {},
     "output_type": "execute_result"
    }
   ],
   "source": [
    "Pb1 = init_sol.Pb('instances/gap12.txt',4)\n",
    "sol_fam = init_sol.fam_sols(Pb1,'max')\n",
    "print(op.best_element(sol_fam,Pb1,'max'))\n",
    "op.evolution(Pb1)"
   ]
  },
  {
   "cell_type": "code",
   "execution_count": null,
   "metadata": {},
   "outputs": [
    {
     "name": "stdout",
     "output_type": "stream",
     "text": [
      "gap1 0\n"
     ]
    },
    {
     "ename": "IndexError",
     "evalue": "tuple index out of range",
     "output_type": "error",
     "traceback": [
      "\u001b[0;31m---------------------------------------------------------------------------\u001b[0m",
      "\u001b[0;31mIndexError\u001b[0m                                Traceback (most recent call last)",
      "Cell \u001b[0;32mIn[7], line 13\u001b[0m\n\u001b[1;32m     11\u001b[0m sol_fam \u001b[38;5;241m=\u001b[39m init_sol\u001b[38;5;241m.\u001b[39mfam_sols(Pb1,\u001b[38;5;124m'\u001b[39m\u001b[38;5;124mmax\u001b[39m\u001b[38;5;124m'\u001b[39m)\n\u001b[1;32m     12\u001b[0m results[instance][\u001b[38;5;28mid\u001b[39m] \u001b[38;5;241m=\u001b[39m (op\u001b[38;5;241m.\u001b[39mbest_element(sol_fam,Pb1,\u001b[38;5;124m'\u001b[39m\u001b[38;5;124mmax\u001b[39m\u001b[38;5;124m'\u001b[39m),op\u001b[38;5;241m.\u001b[39mevolution(Pb1))\n\u001b[0;32m---> 13\u001b[0m \u001b[38;5;28mprint\u001b[39m(\u001b[38;5;124mf\u001b[39m\u001b[38;5;124m'\u001b[39m\u001b[38;5;124mRealisabilité : \u001b[39m\u001b[38;5;132;01m{\u001b[39;00m\u001b[43mPb1\u001b[49m\u001b[38;5;241;43m.\u001b[39;49m\u001b[43mrealisabilite\u001b[49m\u001b[43m(\u001b[49m\u001b[43mresults\u001b[49m\u001b[43m[\u001b[49m\u001b[43minstance\u001b[49m\u001b[43m]\u001b[49m\u001b[43m[\u001b[49m\u001b[38;5;28;43mid\u001b[39;49m\u001b[43m]\u001b[49m\u001b[43m[\u001b[49m\u001b[38;5;241;43m0\u001b[39;49m\u001b[43m]\u001b[49m\u001b[43m)\u001b[49m\u001b[38;5;132;01m}\u001b[39;00m\u001b[38;5;124m'\u001b[39m)\n\u001b[1;32m     14\u001b[0m \u001b[38;5;28mprint\u001b[39m(results[instance][\u001b[38;5;28mid\u001b[39m][\u001b[38;5;241m1\u001b[39m][\u001b[38;5;241m1\u001b[39m])\n",
      "File \u001b[0;32m~/Documents/MPRO/Metaheuristique/projet Meta/init_sol.py:51\u001b[0m, in \u001b[0;36mPb.realisabilite\u001b[0;34m(self, X)\u001b[0m\n\u001b[1;32m     49\u001b[0m deficit_total \u001b[38;5;241m=\u001b[39m \u001b[38;5;241m0\u001b[39m\n\u001b[1;32m     50\u001b[0m \u001b[38;5;28;01mfor\u001b[39;00m agent \u001b[38;5;129;01min\u001b[39;00m \u001b[38;5;28mrange\u001b[39m(\u001b[38;5;28mself\u001b[39m\u001b[38;5;241m.\u001b[39mm):\n\u001b[0;32m---> 51\u001b[0m     capacite_agent \u001b[38;5;241m=\u001b[39m \u001b[38;5;28;43mself\u001b[39;49m\u001b[38;5;241;43m.\u001b[39;49m\u001b[43mrealisabilite_agent\u001b[49m\u001b[43m(\u001b[49m\u001b[43magent\u001b[49m\u001b[43m,\u001b[49m\u001b[43m \u001b[49m\u001b[43mX\u001b[49m\u001b[43m)\u001b[49m\n\u001b[1;32m     52\u001b[0m     \u001b[38;5;28;01mif\u001b[39;00m capacite_agent \u001b[38;5;241m<\u001b[39m \u001b[38;5;241m0\u001b[39m:\n\u001b[1;32m     53\u001b[0m         deficit_total \u001b[38;5;241m+\u001b[39m\u001b[38;5;241m=\u001b[39m capacite_agent\n",
      "File \u001b[0;32m~/Documents/MPRO/Metaheuristique/projet Meta/init_sol.py:37\u001b[0m, in \u001b[0;36mPb.realisabilite_agent\u001b[0;34m(self, agent, X)\u001b[0m\n\u001b[1;32m     35\u001b[0m capacite_restante \u001b[38;5;241m=\u001b[39m \u001b[38;5;28mself\u001b[39m\u001b[38;5;241m.\u001b[39mb[agent]\n\u001b[1;32m     36\u001b[0m \u001b[38;5;28;01mfor\u001b[39;00m tache \u001b[38;5;129;01min\u001b[39;00m \u001b[38;5;28mrange\u001b[39m(\u001b[38;5;28mself\u001b[39m\u001b[38;5;241m.\u001b[39mt):\n\u001b[0;32m---> 37\u001b[0m     \u001b[38;5;28;01mif\u001b[39;00m \u001b[43mX\u001b[49m\u001b[43m[\u001b[49m\u001b[43mtache\u001b[49m\u001b[43m]\u001b[49m \u001b[38;5;241m==\u001b[39m agent:\n\u001b[1;32m     38\u001b[0m         capacite_restante \u001b[38;5;241m-\u001b[39m\u001b[38;5;241m=\u001b[39m \u001b[38;5;28mself\u001b[39m\u001b[38;5;241m.\u001b[39mr[agent][tache]\n\u001b[1;32m     39\u001b[0m \u001b[38;5;28;01mreturn\u001b[39;00m capacite_restante\n",
      "\u001b[0;31mIndexError\u001b[0m: tuple index out of range"
     ]
    }
   ],
   "source": [
    "results = {}\n",
    "files = [f'gap{i}.txt' for i in range(1,13)]\n",
    "\n",
    "for file in files:\n",
    "    instance = file[:-4]\n",
    "    results[instance] = {}\n",
    "    for id in range(5):\n",
    "        print(instance,id)\n",
    "        results[instance][id] = [-1,-1]\n",
    "        Pb1 = init_sol.Pb(\"instances/\"+file, id)\n",
    "        sol_fam = init_sol.fam_sols(Pb1,'max')\n",
    "        results[instance][id] = (op.best_element(sol_fam,Pb1,'max'),op.evolution(Pb1))\n",
    "        print(results[instance][id][1][0])\n",
    "        print(f'Realisabilité : {Pb1.realisabilite(results[instance][id][0])}')\n",
    "        print(results[instance][id][1][1])"
   ]
  },
  {
   "cell_type": "code",
   "execution_count": null,
   "metadata": {},
   "outputs": [
    {
     "name": "stdout",
     "output_type": "stream",
     "text": [
      "gap9 0\n",
      "119\n",
      "gap9 1\n",
      "120\n",
      "gap9 2\n",
      "116\n",
      "gap9 3\n",
      "117\n",
      "gap9 4\n",
      "118\n",
      "gap8 0\n",
      "116\n",
      "gap8 1\n",
      "127\n",
      "gap8 2\n",
      "114\n",
      "gap8 3\n",
      "123\n",
      "gap8 4\n",
      "120\n",
      "gap5 0\n",
      "126\n",
      "gap5 1\n",
      "127\n",
      "gap5 2\n",
      "113\n",
      "gap5 3\n",
      "119\n",
      "gap5 4\n",
      "127\n",
      "gapc 0\n",
      "122\n",
      "gapc 1\n",
      "119\n",
      "gapc 2\n",
      "120\n",
      "gapc 3\n",
      "129\n",
      "gapc 4\n",
      "118\n",
      "gap12 0\n",
      "122\n",
      "gap12 1\n"
     ]
    },
    {
     "ename": "TypeError",
     "evalue": "'int' object is not subscriptable",
     "output_type": "error",
     "traceback": [
      "\u001b[0;31m---------------------------------------------------------------------------\u001b[0m",
      "\u001b[0;31mTypeError\u001b[0m                                 Traceback (most recent call last)",
      "Cell \u001b[0;32mIn[10], line 4\u001b[0m\n\u001b[1;32m      2\u001b[0m \u001b[38;5;28;01mfor\u001b[39;00m \u001b[38;5;28mid\u001b[39m \u001b[38;5;129;01min\u001b[39;00m results[instance]\u001b[38;5;241m.\u001b[39mkeys():\n\u001b[1;32m      3\u001b[0m     \u001b[38;5;28mprint\u001b[39m(instance,\u001b[38;5;28mid\u001b[39m)\n\u001b[0;32m----> 4\u001b[0m     \u001b[38;5;28mprint\u001b[39m(\u001b[43mresults\u001b[49m\u001b[43m[\u001b[49m\u001b[43minstance\u001b[49m\u001b[43m]\u001b[49m\u001b[43m[\u001b[49m\u001b[38;5;28;43mid\u001b[39;49m\u001b[43m]\u001b[49m\u001b[43m[\u001b[49m\u001b[38;5;241;43m1\u001b[39;49m\u001b[43m]\u001b[49m\u001b[43m[\u001b[49m\u001b[38;5;241;43m1\u001b[39;49m\u001b[43m]\u001b[49m\u001b[38;5;241m-\u001b[39mresults[instance][\u001b[38;5;28mid\u001b[39m][\u001b[38;5;241m0\u001b[39m][\u001b[38;5;241m1\u001b[39m])\n",
      "\u001b[0;31mTypeError\u001b[0m: 'int' object is not subscriptable"
     ]
    }
   ],
   "source": [
    "for instance in results.keys():\n",
    "    for id in results[instance].keys():\n",
    "        print(instance,id,results[instance][id][1][1]-results[instance][id][0][1])"
   ]
  }
 ],
 "metadata": {
  "kernelspec": {
   "display_name": "base",
   "language": "python",
   "name": "python3"
  },
  "language_info": {
   "codemirror_mode": {
    "name": "ipython",
    "version": 3
   },
   "file_extension": ".py",
   "mimetype": "text/x-python",
   "name": "python",
   "nbconvert_exporter": "python",
   "pygments_lexer": "ipython3",
   "version": "3.12.2"
  }
 },
 "nbformat": 4,
 "nbformat_minor": 2
}
