{
 "cells": [
  {
   "cell_type": "code",
   "execution_count": 1,
   "metadata": {},
   "outputs": [],
   "source": [
    "import init_sol\n",
    "import operations_algo_genetique as op\n",
    "import numpy as np\n",
    "import time\n",
    "import os\n",
    "import csv"
   ]
  },
  {
   "cell_type": "code",
   "execution_count": 2,
   "metadata": {},
   "outputs": [
    {
     "name": "stdout",
     "output_type": "stream",
     "text": [
      "304.4\n",
      "6.019966777316964\n",
      "319\n",
      "308.0\n",
      "6.81175454637056\n",
      "321\n"
     ]
    },
    {
     "data": {
      "text/plain": [
       "\"for sol in new_pop:\\n    print(sol)\\n    print(f'réalisabilité : {Pb1.realisabilite(sol)}')\\n    print(f'opt : {Pb1.evaluate(sol)}')\""
      ]
     },
     "execution_count": 2,
     "metadata": {},
     "output_type": "execute_result"
    }
   ],
   "source": [
    "Pb1 = init_sol.Pb('instances/gap1.txt',0)\n",
    "sol_fam = init_sol.fam_sols(Pb1,'max',20)\n",
    "\n",
    "\"\"\"for sol in sol_fam:\n",
    "    print(sol)\n",
    "    print(f'opt : {Pb1.evaluate(sol)}')\"\"\"\n",
    "\n",
    "print(np.mean([Pb1.evaluate(sol) for sol in sol_fam]))\n",
    "print(np.std([Pb1.evaluate(sol) for sol in sol_fam]))\n",
    "print(np.max([Pb1.evaluate(sol) for sol in sol_fam]))\n",
    "\n",
    "\n",
    "new_pop = op.new_pop(sol_fam,Pb1)\n",
    "\n",
    "print(np.mean([Pb1.evaluate(sol) for sol in new_pop]))\n",
    "print(np.std([Pb1.evaluate(sol) for sol in new_pop]))\n",
    "print(np.max([Pb1.evaluate(sol) for sol in new_pop]))\n",
    "\n",
    "\"\"\"for sol in new_pop:\n",
    "    print(sol)\n",
    "    print(f'réalisabilité : {Pb1.realisabilite(sol)}')\n",
    "    print(f'opt : {Pb1.evaluate(sol)}')\"\"\""
   ]
  },
  {
   "cell_type": "code",
   "execution_count": 3,
   "metadata": {},
   "outputs": [],
   "source": [
    "Pb1 = init_sol.Pb('instances/gap12.txt',4)\n",
    "sol_fam = init_sol.fam_sols(Pb1,'max',20)\n",
    "#print(op.best_element(sol_fam,Pb1,'max'))\n",
    "#op.evolution(Pb1)"
   ]
  },
  {
   "cell_type": "markdown",
   "metadata": {},
   "source": [
    "Instances de minimisation"
   ]
  },
  {
   "cell_type": "code",
   "execution_count": 4,
   "metadata": {},
   "outputs": [
    {
     "name": "stdout",
     "output_type": "stream",
     "text": [
      "instances/gap1.txt 1\n",
      "Temps de calcul :4.17s\n"
     ]
    }
   ],
   "source": [
    "max_time = 10\n",
    "max_amelio = 0.1\n",
    "taille_pop = 40\n",
    "Nb_gen_max = 100\n",
    "alpha = 0.5\n",
    "\n",
    "file = 'instances/gap1.txt'\n",
    "id = 0\n",
    "\n",
    "print(file,id+1)\n",
    "Pb1 = init_sol.Pb(file, id)\n",
    "\n",
    "start = time.time()\n",
    "final_sol = op.evolution(Pb1,taille_pop,Nb_gen_max,max_time,max_amelio,alpha_mutation=alpha,critere='max')\n",
    "#print('Réalisabilité : ',Pb1.realisabilite(final_sol[0]))\n",
    "print(f'Temps de calcul :{time.time()-start:.2f}s')"
   ]
  },
  {
   "cell_type": "code",
   "execution_count": 5,
   "metadata": {},
   "outputs": [
    {
     "name": "stdout",
     "output_type": "stream",
     "text": [
      "Temps de calcul :10.48s\n"
     ]
    }
   ],
   "source": [
    "Pb1 = init_sol.Pb('instances/gap_c/c30900',0)\n",
    "\n",
    "start = time.time()\n",
    "sol_fam = init_sol.fam_sols(Pb1,'min',20)\n",
    "print(f'Temps de calcul :{time.time()-start:.2f}s')"
   ]
  },
  {
   "cell_type": "code",
   "execution_count": 6,
   "metadata": {},
   "outputs": [
    {
     "data": {
      "text/plain": [
       "'max_time = 10\\nmax_amelio = 0.1\\ntaille_pop = 40\\nNb_gen_max = 20\\n\\nresults = {}\\nfiles = [f\\'gap{i}.txt\\' for i in range(1,13)]\\n\\nfor file in files:\\n    instance = file[:-4]\\n    results[instance] = {}\\n    for id in range(5):\\n        print(instance,id+1)\\n        results[instance][id] = [-1,-1]\\n        Pb1 = init_sol.Pb(\"instances/\"+file, id)\\n        results[instance][id] = op.evolution(Pb1,taille_pop,Nb_gen_max,max_time,max_amelio,alpha_mutation=0.9,critere=\\'max\\')\\n        #print(results[instance][id][1][0])\\n        print(f\\'Realisabilité : {Pb1.realisabilite(results[instance][id][1][0])}\\')\\n        #print(f\\'opt : {results[instance][id][1][1]}\\')'"
      ]
     },
     "execution_count": 6,
     "metadata": {},
     "output_type": "execute_result"
    }
   ],
   "source": [
    "\"\"\"max_time = 10\n",
    "max_amelio = 0.1\n",
    "taille_pop = 40\n",
    "Nb_gen_max = 20\n",
    "\n",
    "results = {}\n",
    "files = [f'gap{i}.txt' for i in range(1,13)]\n",
    "\n",
    "for file in files:\n",
    "    instance = file[:-4]\n",
    "    results[instance] = {}\n",
    "    for id in range(5):\n",
    "        print(instance,id+1)\n",
    "        results[instance][id] = [-1,-1]\n",
    "        Pb1 = init_sol.Pb(\"instances/\"+file, id)\n",
    "        results[instance][id] = op.evolution(Pb1,taille_pop,Nb_gen_max,max_time,max_amelio,alpha_mutation=0.9,critere='max')\n",
    "        #print(results[instance][id][1][0])\n",
    "        print(f'Realisabilité : {Pb1.realisabilite(results[instance][id][1][0])}')\n",
    "        #print(f'opt : {results[instance][id][1][1]}')\"\"\""
   ]
  },
  {
   "cell_type": "code",
   "execution_count": 7,
   "metadata": {},
   "outputs": [
    {
     "data": {
      "text/plain": [
       "'import csv\\n\\nmax_time = 10\\nmax_amelio = 0.1\\ntaille_pop = 40\\nNb_gen_max = 20\\n\\n\\n# List of all files (instances) to process\\nfiles = [f\\'gap{i}.txt\\' for i in range(1, 13)]\\n\\n# Initialize data storage for each instance\\'s results\\nall_results = []\\n\\n# Run the evolution process for each file and collect optimal evaluation values\\nfor file in files:\\n    instance = file[:-4]\\n    for id in range(5):\\n        print(f\"Processing {instance} run {id + 1}\")\\n        Pb1 = init_sol.Pb(\"instances/\" + file, id)\\n\\n        # Run the evolution function and get the list of best solutions (Bests)\\n        Bests = op.evolution(Pb1,taille_pop,Nb_gen_max,max_time,max_amelio,alpha_mutation=alpha,critere=\\'max\\')\\n        # Extract only the evaluation values from the Bests list\\n        best_evals = [best[1] for best in Bests]  # Collect only evaluation values\\n\\n        # Save instance name, run ID, and best evaluation values to all_results\\n        all_results.append([instance, id + 1] + best_evals)\\n\\n# Define headers for CSV, including generation numbers for optimal values\\nheaders = [\"Instance\", \"Run_ID\"] + [f\"Gen_{i}\" for i in range(np.max([len(best_evals) for best_evals in all_results[2:]]))]\\n\\n# Write the results to a single CSV file\\nwith open(\"resultats_T/optimal_evaluations.csv\", mode=\"w\", newline=\"\") as file:\\n    writer = csv.writer(file)\\n    writer.writerow(headers)  # Write the header row\\n    writer.writerows(all_results)  # Write all instance results\\n\\nprint(\"Optimal evaluation results have been saved to optimal_evaluations.csv\")\\n'"
      ]
     },
     "execution_count": 7,
     "metadata": {},
     "output_type": "execute_result"
    }
   ],
   "source": [
    "\"\"\"import csv\n",
    "\n",
    "max_time = 10\n",
    "max_amelio = 0.1\n",
    "taille_pop = 40\n",
    "Nb_gen_max = 20\n",
    "\n",
    "\n",
    "# List of all files (instances) to process\n",
    "files = [f'gap{i}.txt' for i in range(1, 13)]\n",
    "\n",
    "# Initialize data storage for each instance's results\n",
    "all_results = []\n",
    "\n",
    "# Run the evolution process for each file and collect optimal evaluation values\n",
    "for file in files:\n",
    "    instance = file[:-4]\n",
    "    for id in range(5):\n",
    "        print(f\"Processing {instance} run {id + 1}\")\n",
    "        Pb1 = init_sol.Pb(\"instances/\" + file, id)\n",
    "\n",
    "        # Run the evolution function and get the list of best solutions (Bests)\n",
    "        Bests = op.evolution(Pb1,taille_pop,Nb_gen_max,max_time,max_amelio,alpha_mutation=alpha,critere='max')\n",
    "        # Extract only the evaluation values from the Bests list\n",
    "        best_evals = [best[1] for best in Bests]  # Collect only evaluation values\n",
    "\n",
    "        # Save instance name, run ID, and best evaluation values to all_results\n",
    "        all_results.append([instance, id + 1] + best_evals)\n",
    "\n",
    "# Define headers for CSV, including generation numbers for optimal values\n",
    "headers = [\"Instance\", \"Run_ID\"] + [f\"Gen_{i}\" for i in range(np.max([len(best_evals) for best_evals in all_results[2:]]))]\n",
    "\n",
    "# Write the results to a single CSV file\n",
    "with open(\"resultats_T/optimal_evaluations.csv\", mode=\"w\", newline=\"\") as file:\n",
    "    writer = csv.writer(file)\n",
    "    writer.writerow(headers)  # Write the header row\n",
    "    writer.writerows(all_results)  # Write all instance results\n",
    "\n",
    "print(\"Optimal evaluation results have been saved to optimal_evaluations.csv\")\n",
    "\"\"\""
   ]
  },
  {
   "cell_type": "code",
   "execution_count": 8,
   "metadata": {},
   "outputs": [
    {
     "data": {
      "text/plain": [
       "'\\nfiles = [f\\'gap{i}.txt\\' for i in [\\'a\\',\\'b\\',\\'c\\',\\'d\\']]\\nmax_time = 10\\nmax_amelio = 0.1\\ntaille_pop = 40\\nNb_gen_max = 20\\n\\n# Initialize data storage for each instance\\'s results\\nresults_min = []\\n\\n# Run the evolution process for each file and collect optimal evaluation values\\nfor file in files:\\n    instance = file[:-4]\\n    for id in range(6):\\n        if not (file==\\'gapd.txt\\' and id==0):\\n            print(f\"Processing {instance} run {id + 1}\")\\n            Pb1 = init_sol.Pb(\"instances/\" + file, id)\\n\\n            # Run the evolution function and get the list of best solutions (Bests)\\n            Bests = op.evolution(Pb1,taille_pop,Nb_gen_max,max_time,max_amelio,alpha_mutation=alpha,critere=\\'min\\')\\n            # Extract only the evaluation values from the Bests list\\n            best_evals = [best[1] for best in Bests]  # Collect only evaluation values\\n\\n            # Save instance name, run ID, and best evaluation values to all_results\\n            results_min.append([instance, id + 1] + best_evals)\\n\\n# Define headers for CSV, including generation numbers for optimal values\\nheaders = [\"Instance\", \"Run_ID\"] + [f\"Gen_{i}\" for i in range(np.max([len(best_evals) for best_evals in results_min[2:]]))]\\n\\n# Write the results to a single CSV file\\nwith open(\"resultats_T/optimal_evaluations_min.csv\", mode=\"w\", newline=\"\") as file:\\n    writer = csv.writer(file)\\n    writer.writerow(headers)  # Write the header row\\n    writer.writerows(results_min)  # Write all instance results\\n\\nprint(\"Optimal evaluation results have been saved to optimal_evaluations.csv\")'"
      ]
     },
     "execution_count": 8,
     "metadata": {},
     "output_type": "execute_result"
    }
   ],
   "source": [
    "\"\"\"\n",
    "files = [f'gap{i}.txt' for i in ['a','b','c','d']]\n",
    "max_time = 10\n",
    "max_amelio = 0.1\n",
    "taille_pop = 40\n",
    "Nb_gen_max = 20\n",
    "\n",
    "# Initialize data storage for each instance's results\n",
    "results_min = []\n",
    "\n",
    "# Run the evolution process for each file and collect optimal evaluation values\n",
    "for file in files:\n",
    "    instance = file[:-4]\n",
    "    for id in range(6):\n",
    "        if not (file=='gapd.txt' and id==0):\n",
    "            print(f\"Processing {instance} run {id + 1}\")\n",
    "            Pb1 = init_sol.Pb(\"instances/\" + file, id)\n",
    "\n",
    "            # Run the evolution function and get the list of best solutions (Bests)\n",
    "            Bests = op.evolution(Pb1,taille_pop,Nb_gen_max,max_time,max_amelio,alpha_mutation=alpha,critere='min')\n",
    "            # Extract only the evaluation values from the Bests list\n",
    "            best_evals = [best[1] for best in Bests]  # Collect only evaluation values\n",
    "\n",
    "            # Save instance name, run ID, and best evaluation values to all_results\n",
    "            results_min.append([instance, id + 1] + best_evals)\n",
    "\n",
    "# Define headers for CSV, including generation numbers for optimal values\n",
    "headers = [\"Instance\", \"Run_ID\"] + [f\"Gen_{i}\" for i in range(np.max([len(best_evals) for best_evals in results_min[2:]]))]\n",
    "\n",
    "# Write the results to a single CSV file\n",
    "with open(\"resultats_T/optimal_evaluations_min.csv\", mode=\"w\", newline=\"\") as file:\n",
    "    writer = csv.writer(file)\n",
    "    writer.writerow(headers)  # Write the header row\n",
    "    writer.writerows(results_min)  # Write all instance results\n",
    "\n",
    "print(\"Optimal evaluation results have been saved to optimal_evaluations.csv\")\"\"\""
   ]
  },
  {
   "cell_type": "code",
   "execution_count": null,
   "metadata": {},
   "outputs": [
    {
     "name": "stdout",
     "output_type": "stream",
     "text": [
      "Running gap_c/ c40400\n",
      "Running gap_c/ c401600\n"
     ]
    }
   ],
   "source": [
    "max_time = 10\n",
    "max_amelio = 0.1\n",
    "taille_pop = 40\n",
    "Nb_gen_max = 20\n",
    "\n",
    "# Initialize data storage for each instance's results\n",
    "results_min = []\n",
    "\n",
    "for dir in [\"gap_c/\", \"gap_d/\"]:\n",
    "    for file in os.listdir('instances/' + dir):\n",
    "        instance = file\n",
    "        Pb1 = init_sol.Pb('instances/'+ dir+ file, 0)\n",
    "        print(f\"Running {dir} {file}\")\n",
    "        # Run the evolution function and get the list of best solutions (Bests)\n",
    "        Bests = op.evolution(Pb1,taille_pop,Nb_gen_max,max_time,max_amelio,alpha_mutation=alpha,critere='min')\n",
    "        # Extract only the evaluation values from the Bests list\n",
    "        if Bests == None:\n",
    "            best_evals = None\n",
    "            results_min.append([dir, file])\n",
    "        else:\n",
    "            best_evals = [best[1] for best in Bests]  # Collect only evaluation values\n",
    "            results_min.append([dir, file] + best_evals)\n",
    "\n",
    "# Define headers for CSV, including generation numbers for optimal values\n",
    "headers = [\"dir\", \"file\"] + [f\"Gen_{i}\" for i in range(np.max([len(best_evals) for best_evals in results_min[2:]]))]\n",
    "\n",
    "# Write the results to a single CSV file\n",
    "with open(\"resultats_T/optimal_evaluations_new_i.csv\", mode=\"w\", newline=\"\") as file:\n",
    "    writer = csv.writer(file)\n",
    "    writer.writerow(headers)  # Write the header row\n",
    "    writer.writerows(results_min)  # Write all instance results\n",
    "\n",
    "print(\"Optimal evaluation results have been saved to optimal_evaluations.csv\")"
   ]
  }
 ],
 "metadata": {
  "kernelspec": {
   "display_name": "base",
   "language": "python",
   "name": "python3"
  },
  "language_info": {
   "codemirror_mode": {
    "name": "ipython",
    "version": 3
   },
   "file_extension": ".py",
   "mimetype": "text/x-python",
   "name": "python",
   "nbconvert_exporter": "python",
   "pygments_lexer": "ipython3",
   "version": "3.12.2"
  }
 },
 "nbformat": 4,
 "nbformat_minor": 2
}
