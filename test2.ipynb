{
 "cells": [
  {
   "cell_type": "code",
   "execution_count": 1,
   "metadata": {},
   "outputs": [],
   "source": [
    "import init_sol\n",
    "import operations_algo_genetique as op\n",
    "import numpy as np"
   ]
  },
  {
   "cell_type": "code",
   "execution_count": 10,
   "metadata": {},
   "outputs": [
    {
     "name": "stdout",
     "output_type": "stream",
     "text": [
      "1319.3\n",
      "2.293468988235943\n",
      "1312\n",
      "1320.5\n",
      "1.0\n",
      "1319\n"
     ]
    },
    {
     "data": {
      "text/plain": [
       "\"for sol in new_pop:\\n    print(sol)\\n    print(f'réalisabilité : {Pb1.realisabilite(sol)}')\\n    print(f'opt : {Pb1.evaluate(sol)}')\""
      ]
     },
     "execution_count": 10,
     "metadata": {},
     "output_type": "execute_result"
    }
   ],
   "source": [
    "Pb1 = init_sol.Pb_genetique('instances/gap12.txt',0)\n",
    "sol_fam = init_sol.fam_sols(Pb1,'max')\n",
    "\n",
    "\"\"\"for sol in sol_fam:\n",
    "    print(sol)\n",
    "    print(f'opt : {Pb1.evaluate(sol)}')\"\"\"\n",
    "\n",
    "print(np.mean([Pb1.evaluate(sol) for sol in sol_fam]))\n",
    "print(np.std([Pb1.evaluate(sol) for sol in sol_fam]))\n",
    "print(np.min([Pb1.evaluate(sol) for sol in sol_fam]))\n",
    "\n",
    "\n",
    "new_pop = op.new_pop(sol_fam,Pb1)\n",
    "\n",
    "print(np.mean([Pb1.evaluate(sol) for sol in new_pop]))\n",
    "print(np.std([Pb1.evaluate(sol) for sol in new_pop]))\n",
    "print(np.min([Pb1.evaluate(sol) for sol in new_pop]))\n",
    "\n",
    "\"\"\"for sol in new_pop:\n",
    "    print(sol)\n",
    "    print(f'réalisabilité : {Pb1.realisabilite(sol)}')\n",
    "    print(f'opt : {Pb1.evaluate(sol)}')\"\"\""
   ]
  }
 ],
 "metadata": {
  "kernelspec": {
   "display_name": "base",
   "language": "python",
   "name": "python3"
  },
  "language_info": {
   "codemirror_mode": {
    "name": "ipython",
    "version": 3
   },
   "file_extension": ".py",
   "mimetype": "text/x-python",
   "name": "python",
   "nbconvert_exporter": "python",
   "pygments_lexer": "ipython3",
   "version": "3.12.2"
  }
 },
 "nbformat": 4,
 "nbformat_minor": 2
}
