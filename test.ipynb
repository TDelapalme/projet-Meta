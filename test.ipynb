{
 "cells": [
  {
   "cell_type": "code",
   "execution_count": 1,
   "metadata": {},
   "outputs": [],
   "source": [
    "import init_sol as init\n",
    "import voisinage as v\n",
    "import numpy as np\n",
    "import os\n",
    "import pandas as pd\n",
    "import time\n",
    "import recherche_taboue as rt\n",
    "\n",
    "dir_instances = \"instances/\"\n",
    "dir_resultats = \"resultats/\""
   ]
  },
  {
   "cell_type": "code",
   "execution_count": 2,
   "metadata": {},
   "outputs": [
    {
     "name": "stdout",
     "output_type": "stream",
     "text": [
      "200 5\n",
      "0\n",
      "True\n",
      "4328\n",
      "200\n",
      "4332\n",
      "3612 0.03890180587768555 0.03890180587768555\n",
      "0\n"
     ]
    }
   ],
   "source": [
    "pb = init.Pb(\"instances/gapb.txt\", 1)\n",
    "print(pb.t, pb.m)\n",
    "init.sol_gloutonne_2(pb, critere = 'min')\n",
    "print(pb.realisabilite(pb.x))\n",
    "print(init.est_complete(pb.x))\n",
    "print(pb.f)\n",
    "print(len(pb.x))\n",
    "init.sol_gloutonne_stoch_c(pb, critere = 'min')\n",
    "print(pb.f)\n",
    "s= time.time()\n",
    "val, exec_time = v.montee_timeMax(pb, init.sol_gloutonne_2, v.un_pas_reaffectation, timeMax = 120, critere = 'min')\n",
    "end = time.time()\n",
    "print(val, exec_time, end-s)\n",
    "print(pb.realisabilite(pb.x))\n",
    "\n",
    "# val, sol, temps = rt.a_recherche_taboue_depart_mult(pb, rt.a_recherche_taboue_timeMax, rt.recherche_taboue, init.sol_gloutonne_stoch_c, rt.descente_un_pas_tabou_reaffect_nvl_agent,\n",
    "#                                                     None, rt.tabou_liste_tache_reaffectation,pb.t//4,critere = 'min', timeMax=120,\n",
    "#                                                     timeMaxAmelio= 30, nb_depart=5)\n",
    "# print(val, pb.realisabilite(sol)==0, temps)"
   ]
  },
  {
   "cell_type": "markdown",
   "metadata": {},
   "source": [
    "## Recherche locale"
   ]
  },
  {
   "cell_type": "markdown",
   "metadata": {},
   "source": [
    "### Exécuter pour résultats sur instances 1-12 en 50s max par instances\n",
    "\n",
    "Voisinage: réaffectation d'une tâche.\n",
    "\n",
    "Départs multiples: 5 par tâches."
   ]
  },
  {
   "cell_type": "code",
   "execution_count": 3,
   "metadata": {},
   "outputs": [
    {
     "name": "stdout",
     "output_type": "stream",
     "text": [
      "gap1 0 15 5 val  316  en  0.009006023406982422 s.\n",
      "gap1 1 15 5 val  317  en  0.015958070755004883 s.\n",
      "gap1 2 15 5 val  327  en  0.0179746150970459 s.\n",
      "gap1 3 15 5 val  331  en  0.036905765533447266 s.\n",
      "gap1 4 15 5 val  315  en  0.013958454132080078 s.\n",
      "gap10 0 40 10 val  946  en  0.11269950866699219 s.\n",
      "gap10 1 40 10 val  945  en  0.09474825859069824 s.\n",
      "gap10 2 40 10 val  944  en  0.07280421257019043 s.\n",
      "gap10 3 40 10 val  935  en  0.08255410194396973 s.\n",
      "gap10 4 40 10 val  934  en  0.13167595863342285 s.\n",
      "gap11 0 50 10 val  1122  en  0.09873747825622559 s.\n",
      "gap11 1 50 10 val  1171  en  0.08480334281921387 s.\n",
      "gap11 2 50 10 val  1187  en  0.09677410125732422 s.\n",
      "gap11 3 50 10 val  1149  en  0.12566423416137695 s.\n",
      "gap11 4 50 10 val  1154  en  0.12965750694274902 s.\n",
      "gap12 0 60 10 val  1436  en  0.21309661865234375 s.\n",
      "gap12 1 60 10 val  1435  en  0.1685471534729004 s.\n",
      "gap12 2 60 10 val  1422  en  0.15657424926757812 s.\n",
      "gap12 3 60 10 val  1434  en  0.19937896728515625 s.\n",
      "gap12 4 60 10 val  1433  en  0.15956997871398926 s.\n",
      "gap2 0 20 5 val  419  en  0.010972261428833008 s.\n",
      "gap2 1 20 5 val  426  en  0.007978200912475586 s.\n",
      "gap2 2 20 5 val  415  en  0.011967897415161133 s.\n",
      "gap2 3 20 5 val  410  en  0.009958505630493164 s.\n",
      "gap2 4 20 5 val  418  en  0.010972023010253906 s.\n",
      "gap3 0 25 5 val  572  en  0.013962268829345703 s.\n",
      "gap3 1 25 5 val  555  en  0.015949010848999023 s.\n",
      "gap3 2 25 5 val  572  en  0.016980648040771484 s.\n",
      "gap3 3 25 5 val  568  en  0.02694988250732422 s.\n",
      "gap3 4 25 5 val  555  en  0.019971132278442383 s.\n",
      "gap4 0 30 5 val  652  en  0.018971681594848633 s.\n",
      "gap4 1 30 5 val  632  en  0.017962932586669922 s.\n",
      "gap4 2 30 5 val  671  en  0.020929574966430664 s.\n",
      "gap4 3 30 5 val  634  en  0.019972801208496094 s.\n",
      "gap4 4 30 5 val  654  en  0.019941091537475586 s.\n",
      "gap5 0 24 8 val  557  en  0.02097606658935547 s.\n",
      "gap5 1 24 8 val  546  en  0.020945310592651367 s.\n",
      "gap5 2 24 8 val  557  en  0.02194070816040039 s.\n",
      "gap5 3 24 8 val  556  en  0.01993727684020996 s.\n",
      "gap5 4 24 8 val  545  en  0.018948078155517578 s.\n",
      "gap6 0 32 8 val  753  en  0.038896799087524414 s.\n",
      "gap6 1 32 8 val  736  en  0.041884660720825195 s.\n",
      "gap6 2 32 8 val  741  en  0.049173593521118164 s.\n",
      "gap6 3 32 8 val  742  en  0.06482625007629395 s.\n",
      "gap6 4 32 8 val  738  en  0.03888988494873047 s.\n",
      "gap7 0 40 8 val  931  en  0.0538485050201416 s.\n",
      "gap7 1 40 8 val  941  en  0.054847002029418945 s.\n",
      "gap7 2 40 8 val  956  en  0.060868024826049805 s.\n",
      "gap7 3 40 8 val  918  en  0.05286121368408203 s.\n",
      "gap7 4 40 8 val  935  en  0.0478975772857666 s.\n",
      "gap8 0 48 8 val  1120  en  0.06784772872924805 s.\n",
      "gap8 1 48 8 val  1113  en  0.09463930130004883 s.\n",
      "gap8 2 48 8 val  1127  en  0.08580303192138672 s.\n",
      "gap8 3 48 8 val  1097  en  0.059842586517333984 s.\n",
      "gap8 4 48 8 val  1118  en  0.06981730461120605 s.\n",
      "gap9 0 30 10 val  699  en  0.047867774963378906 s.\n",
      "gap9 1 30 10 val  707  en  0.05285906791687012 s.\n",
      "gap9 2 30 10 val  695  en  0.05788683891296387 s.\n",
      "gap9 3 30 10 val  717  en  0.0399014949798584 s.\n",
      "gap9 4 30 10 val  688  en  0.048872947692871094 s.\n"
     ]
    }
   ],
   "source": [
    "fn_initialisation = init.sol_gloutonne_stoch_c\n",
    "fn_un_pas = v.un_pas_reaffectation\n",
    "initialisation = True\n",
    "critere = 'max'\n",
    "timeMax = 50\n",
    "nb_depart = 5\n",
    "\n",
    "\n",
    "results = []\n",
    "\n",
    "for file in os.listdir(dir_instances)[:12]:\n",
    "    instance = file[:-4]\n",
    "    for id in range(5):\n",
    "        pb = init.Pb(dir_instances+file, id)\n",
    "        val, sol, execTime = v.montee_depMult_timeMax(pb, fn_initialisation, fn_un_pas, timeMax=timeMax,\n",
    "                                                        critere=critere, init = initialisation, nb_depart = nb_depart)\n",
    "        \n",
    "        print(instance, id,pb.t, pb.m,\"val \", val, \" en \", execTime,\"s.\")\n",
    "        results.append({\"instance\":instance, \"id\":id, \"m\":pb.m, \"t\":pb.t, \"val\":val,\"time\":execTime})\n",
    "        results_rt_1_swap = pd.DataFrame(results)\n",
    "        results_rt_1_swap.to_csv(dir_resultats+\"max_resultats-1-12_rl_depMult_reaffect_stoch_50_5.csv\")\n",
    "        if pb.realisabilite(sol)!=0:\n",
    "            print(\"Non realisable -------- \", file, id)"
   ]
  },
  {
   "cell_type": "markdown",
   "metadata": {},
   "source": [
    "### Exécuter pour résultats sur instances a-c en 50s max par instances\n",
    "\n",
    "Voisinage: réaffectation d'une tâche.\n",
    "\n",
    "Départs multiples: 5 par tâches."
   ]
  },
  {
   "cell_type": "code",
   "execution_count": null,
   "metadata": {},
   "outputs": [
    {
     "name": "stdout",
     "output_type": "stream",
     "text": [
      "gapa 0 100 5 val  1703  en  0.3440871238708496 s.\n"
     ]
    }
   ],
   "source": [
    "fn_initialisation = init.sol_gloutonne_stoch_c\n",
    "fn_un_pas = v.un_pas_reaffectation\n",
    "initialisation = True\n",
    "critere = 'min'\n",
    "timeMax = .5\n",
    "nb_depart = 5\n",
    "\n",
    "\n",
    "results = []\n",
    "\n",
    "for file in os.listdir(dir_instances)[-4:]:\n",
    "    instance = file[:-4]\n",
    "    if instance !=\"gapd\":\n",
    "        for id in range(6):\n",
    "            pb = init.Pb(dir_instances+file, id)\n",
    "            val, sol, execTime = v.montee_depMult_timeMax(pb, fn_initialisation, fn_un_pas, timeMax=timeMax,\n",
    "                                                          critere=critere, init = initialisation, nb_depart = nb_depart)\n",
    "            \n",
    "            print(instance, id,pb.t, pb.m,\"val \", val, \" en \", execTime,\"s.\")\n",
    "            results.append({\"instance\":instance, \"id\":id, \"m\":pb.m, \"t\":pb.t, \"val\":val,\"time\":execTime})\n",
    "            results_rt_1_swap = pd.DataFrame(results)\n",
    "            results_rt_1_swap.to_csv(dir_resultats+\"max_resultats-a-c_rl_depMult_reaffect_stoch_50_5.csv\")\n",
    "            if pb.realisabilite(sol)!=0:\n",
    "                print(\"Non realisable -------- \", file, id)"
   ]
  },
  {
   "cell_type": "markdown",
   "metadata": {},
   "source": [
    "### Exécuter pour résultats sur instances d en 50s max par instances\n",
    "\n",
    "Voisinage: réaffectation d'une tâche.\n",
    "\n",
    "Départs multiples: 5 par tâches."
   ]
  },
  {
   "cell_type": "code",
   "execution_count": null,
   "metadata": {},
   "outputs": [
    {
     "ename": "KeyboardInterrupt",
     "evalue": "",
     "output_type": "error",
     "traceback": [
      "\u001b[1;31m---------------------------------------------------------------------------\u001b[0m",
      "\u001b[1;31mKeyboardInterrupt\u001b[0m                         Traceback (most recent call last)",
      "Cell \u001b[1;32mIn[7], line 16\u001b[0m\n\u001b[0;32m     14\u001b[0m \u001b[38;5;28;01mfor\u001b[39;00m \u001b[38;5;28mid\u001b[39m \u001b[38;5;129;01min\u001b[39;00m \u001b[38;5;28mrange\u001b[39m(\u001b[38;5;241m6\u001b[39m):\n\u001b[0;32m     15\u001b[0m     pb \u001b[38;5;241m=\u001b[39m init\u001b[38;5;241m.\u001b[39mPb(dir_instances\u001b[38;5;241m+\u001b[39mfile, \u001b[38;5;28mid\u001b[39m)\n\u001b[1;32m---> 16\u001b[0m     val, sol, execTime \u001b[38;5;241m=\u001b[39m \u001b[43mv\u001b[49m\u001b[38;5;241;43m.\u001b[39;49m\u001b[43mmontee_depMult_timeMax\u001b[49m\u001b[43m(\u001b[49m\u001b[43mpb\u001b[49m\u001b[43m,\u001b[49m\u001b[43m \u001b[49m\u001b[43mfn_initialisation\u001b[49m\u001b[43m,\u001b[49m\u001b[43m \u001b[49m\u001b[43mfn_un_pas\u001b[49m\u001b[43m,\u001b[49m\u001b[43m \u001b[49m\u001b[43mtimeMax\u001b[49m\u001b[38;5;241;43m=\u001b[39;49m\u001b[43mtimeMax\u001b[49m\u001b[43m,\u001b[49m\n\u001b[0;32m     17\u001b[0m \u001b[43m                                                  \u001b[49m\u001b[43mcritere\u001b[49m\u001b[38;5;241;43m=\u001b[39;49m\u001b[43mcritere\u001b[49m\u001b[43m,\u001b[49m\u001b[43m \u001b[49m\u001b[43minit\u001b[49m\u001b[43m \u001b[49m\u001b[38;5;241;43m=\u001b[39;49m\u001b[43m \u001b[49m\u001b[43minitialisation\u001b[49m\u001b[43m,\u001b[49m\u001b[43m \u001b[49m\u001b[43mnb_depart\u001b[49m\u001b[43m \u001b[49m\u001b[38;5;241;43m=\u001b[39;49m\u001b[43m \u001b[49m\u001b[43mnb_depart\u001b[49m\u001b[43m)\u001b[49m\n\u001b[0;32m     19\u001b[0m     \u001b[38;5;28mprint\u001b[39m(instance, \u001b[38;5;28mid\u001b[39m,pb\u001b[38;5;241m.\u001b[39mt, pb\u001b[38;5;241m.\u001b[39mm,\u001b[38;5;124m\"\u001b[39m\u001b[38;5;124mval \u001b[39m\u001b[38;5;124m\"\u001b[39m, val, \u001b[38;5;124m\"\u001b[39m\u001b[38;5;124m en \u001b[39m\u001b[38;5;124m\"\u001b[39m, execTime,\u001b[38;5;124m\"\u001b[39m\u001b[38;5;124ms.\u001b[39m\u001b[38;5;124m\"\u001b[39m)\n\u001b[0;32m     20\u001b[0m     results\u001b[38;5;241m.\u001b[39mappend({\u001b[38;5;124m\"\u001b[39m\u001b[38;5;124minstance\u001b[39m\u001b[38;5;124m\"\u001b[39m:instance, \u001b[38;5;124m\"\u001b[39m\u001b[38;5;124mid\u001b[39m\u001b[38;5;124m\"\u001b[39m:\u001b[38;5;28mid\u001b[39m, \u001b[38;5;124m\"\u001b[39m\u001b[38;5;124mm\u001b[39m\u001b[38;5;124m\"\u001b[39m:pb\u001b[38;5;241m.\u001b[39mm, \u001b[38;5;124m\"\u001b[39m\u001b[38;5;124mt\u001b[39m\u001b[38;5;124m\"\u001b[39m:pb\u001b[38;5;241m.\u001b[39mt, \u001b[38;5;124m\"\u001b[39m\u001b[38;5;124mval\u001b[39m\u001b[38;5;124m\"\u001b[39m:val,\u001b[38;5;124m\"\u001b[39m\u001b[38;5;124mtime\u001b[39m\u001b[38;5;124m\"\u001b[39m:execTime})\n",
      "File \u001b[1;32mc:\\Users\\ddesa\\OneDrive\\Documents\\Dimitri\\scolarité\\ENSTA-MPRO\\MH\\projet-Meta\\voisinage.py:189\u001b[0m, in \u001b[0;36mmontee_depMult_timeMax\u001b[1;34m(pb, fn_initialisation, fn_un_pas, timeMax, critere, init, nb_depart)\u001b[0m\n\u001b[0;32m    187\u001b[0m solutions \u001b[38;5;241m=\u001b[39m []\n\u001b[0;32m    188\u001b[0m \u001b[38;5;28;01mfor\u001b[39;00m _ \u001b[38;5;129;01min\u001b[39;00m \u001b[38;5;28mrange\u001b[39m(nb_depart):\n\u001b[1;32m--> 189\u001b[0m     real \u001b[38;5;241m=\u001b[39m \u001b[43mfn_initialisation\u001b[49m\u001b[43m(\u001b[49m\u001b[43mpb\u001b[49m\u001b[43m,\u001b[49m\u001b[43m \u001b[49m\u001b[43mcritere\u001b[49m\u001b[43m)\u001b[49m\n\u001b[0;32m    190\u001b[0m     \u001b[38;5;28;01mif\u001b[39;00m real:\n\u001b[0;32m    191\u001b[0m         montee(pb, fn_initialisation, fn_un_pas, init, critere, timeMax\u001b[38;5;241m/\u001b[39mnb_depart)\n",
      "File \u001b[1;32mc:\\Users\\ddesa\\OneDrive\\Documents\\Dimitri\\scolarité\\ENSTA-MPRO\\MH\\projet-Meta\\init_sol.py:155\u001b[0m, in \u001b[0;36msol_gloutonne_stoch_c\u001b[1;34m(Pb, critere)\u001b[0m\n\u001b[0;32m    154\u001b[0m \u001b[38;5;28;01mdef\u001b[39;00m \u001b[38;5;21msol_gloutonne_stoch_c\u001b[39m(Pb, critere \u001b[38;5;241m=\u001b[39m \u001b[38;5;124m\"\u001b[39m\u001b[38;5;124mmax\u001b[39m\u001b[38;5;124m\"\u001b[39m):\n\u001b[1;32m--> 155\u001b[0m     sol \u001b[38;5;241m=\u001b[39m \u001b[43msol_gloutonne_stoch_4\u001b[49m\u001b[43m(\u001b[49m\u001b[43mPb\u001b[49m\u001b[43m,\u001b[49m\u001b[43m \u001b[49m\u001b[43mcritere\u001b[49m\u001b[43m)\u001b[49m\n\u001b[0;32m    156\u001b[0m     \u001b[38;5;28;01mif\u001b[39;00m \u001b[38;5;28mtype\u001b[39m(sol)\u001b[38;5;241m==\u001b[39m\u001b[38;5;28mtype\u001b[39m(\u001b[38;5;28;01mNone\u001b[39;00m):\n\u001b[0;32m    157\u001b[0m         Pb\u001b[38;5;241m.\u001b[39mf \u001b[38;5;241m=\u001b[39m \u001b[38;5;241m-\u001b[39m\u001b[38;5;241m1\u001b[39m\n",
      "File \u001b[1;32mc:\\Users\\ddesa\\OneDrive\\Documents\\Dimitri\\scolarité\\ENSTA-MPRO\\MH\\projet-Meta\\init_sol.py:152\u001b[0m, in \u001b[0;36msol_gloutonne_stoch_4\u001b[1;34m(Pb, critere)\u001b[0m\n\u001b[0;32m    150\u001b[0m t \u001b[38;5;241m=\u001b[39m Pb\u001b[38;5;241m.\u001b[39mt\n\u001b[0;32m    151\u001b[0m sol \u001b[38;5;241m=\u001b[39m [\u001b[38;5;241m-\u001b[39m\u001b[38;5;241m1\u001b[39m] \u001b[38;5;241m*\u001b[39m t\n\u001b[1;32m--> 152\u001b[0m \u001b[38;5;28;01mreturn\u001b[39;00m \u001b[43msol_gloutonne_stoch_backtrack\u001b[49m\u001b[43m(\u001b[49m\u001b[43mPb\u001b[49m\u001b[43m,\u001b[49m\u001b[43m \u001b[49m\u001b[43msol\u001b[49m\u001b[43m,\u001b[49m\u001b[43m \u001b[49m\u001b[43msorted_affectations\u001b[49m\u001b[43m)\u001b[49m\n",
      "File \u001b[1;32mc:\\Users\\ddesa\\OneDrive\\Documents\\Dimitri\\scolarité\\ENSTA-MPRO\\MH\\projet-Meta\\init_sol.py:129\u001b[0m, in \u001b[0;36msol_gloutonne_stoch_backtrack\u001b[1;34m(Pb, sol, sorted_affectations)\u001b[0m\n\u001b[0;32m    124\u001b[0m sol[task] \u001b[38;5;241m=\u001b[39m a\n\u001b[0;32m    126\u001b[0m \u001b[38;5;66;03m#print(f\"Branchement : {task}={a}\")\u001b[39;00m\n\u001b[0;32m    127\u001b[0m \n\u001b[0;32m    128\u001b[0m \u001b[38;5;66;03m# Recursive backtracking with changes tracked\u001b[39;00m\n\u001b[1;32m--> 129\u001b[0m result \u001b[38;5;241m=\u001b[39m \u001b[43msol_gloutonne_stoch_backtrack\u001b[49m\u001b[43m(\u001b[49m\u001b[43mPb\u001b[49m\u001b[43m,\u001b[49m\u001b[43m \u001b[49m\u001b[43msol\u001b[49m\u001b[43m,\u001b[49m\u001b[43m \u001b[49m\u001b[43msorted_affectations\u001b[49m\u001b[43m)\u001b[49m\n\u001b[0;32m    131\u001b[0m \u001b[38;5;28;01mif\u001b[39;00m result:  \u001b[38;5;66;03m# Si une solution est trouvée, la retourner\u001b[39;00m\n\u001b[0;32m    132\u001b[0m     \u001b[38;5;28;01mreturn\u001b[39;00m result\n",
      "File \u001b[1;32mc:\\Users\\ddesa\\OneDrive\\Documents\\Dimitri\\scolarité\\ENSTA-MPRO\\MH\\projet-Meta\\init_sol.py:129\u001b[0m, in \u001b[0;36msol_gloutonne_stoch_backtrack\u001b[1;34m(Pb, sol, sorted_affectations)\u001b[0m\n\u001b[0;32m    124\u001b[0m sol[task] \u001b[38;5;241m=\u001b[39m a\n\u001b[0;32m    126\u001b[0m \u001b[38;5;66;03m#print(f\"Branchement : {task}={a}\")\u001b[39;00m\n\u001b[0;32m    127\u001b[0m \n\u001b[0;32m    128\u001b[0m \u001b[38;5;66;03m# Recursive backtracking with changes tracked\u001b[39;00m\n\u001b[1;32m--> 129\u001b[0m result \u001b[38;5;241m=\u001b[39m \u001b[43msol_gloutonne_stoch_backtrack\u001b[49m\u001b[43m(\u001b[49m\u001b[43mPb\u001b[49m\u001b[43m,\u001b[49m\u001b[43m \u001b[49m\u001b[43msol\u001b[49m\u001b[43m,\u001b[49m\u001b[43m \u001b[49m\u001b[43msorted_affectations\u001b[49m\u001b[43m)\u001b[49m\n\u001b[0;32m    131\u001b[0m \u001b[38;5;28;01mif\u001b[39;00m result:  \u001b[38;5;66;03m# Si une solution est trouvée, la retourner\u001b[39;00m\n\u001b[0;32m    132\u001b[0m     \u001b[38;5;28;01mreturn\u001b[39;00m result\n",
      "    \u001b[1;31m[... skipping similar frames: sol_gloutonne_stoch_backtrack at line 129 (83 times)]\u001b[0m\n",
      "File \u001b[1;32mc:\\Users\\ddesa\\OneDrive\\Documents\\Dimitri\\scolarité\\ENSTA-MPRO\\MH\\projet-Meta\\init_sol.py:129\u001b[0m, in \u001b[0;36msol_gloutonne_stoch_backtrack\u001b[1;34m(Pb, sol, sorted_affectations)\u001b[0m\n\u001b[0;32m    124\u001b[0m sol[task] \u001b[38;5;241m=\u001b[39m a\n\u001b[0;32m    126\u001b[0m \u001b[38;5;66;03m#print(f\"Branchement : {task}={a}\")\u001b[39;00m\n\u001b[0;32m    127\u001b[0m \n\u001b[0;32m    128\u001b[0m \u001b[38;5;66;03m# Recursive backtracking with changes tracked\u001b[39;00m\n\u001b[1;32m--> 129\u001b[0m result \u001b[38;5;241m=\u001b[39m \u001b[43msol_gloutonne_stoch_backtrack\u001b[49m\u001b[43m(\u001b[49m\u001b[43mPb\u001b[49m\u001b[43m,\u001b[49m\u001b[43m \u001b[49m\u001b[43msol\u001b[49m\u001b[43m,\u001b[49m\u001b[43m \u001b[49m\u001b[43msorted_affectations\u001b[49m\u001b[43m)\u001b[49m\n\u001b[0;32m    131\u001b[0m \u001b[38;5;28;01mif\u001b[39;00m result:  \u001b[38;5;66;03m# Si une solution est trouvée, la retourner\u001b[39;00m\n\u001b[0;32m    132\u001b[0m     \u001b[38;5;28;01mreturn\u001b[39;00m result\n",
      "File \u001b[1;32mc:\\Users\\ddesa\\OneDrive\\Documents\\Dimitri\\scolarité\\ENSTA-MPRO\\MH\\projet-Meta\\init_sol.py:117\u001b[0m, in \u001b[0;36msol_gloutonne_stoch_backtrack\u001b[1;34m(Pb, sol, sorted_affectations)\u001b[0m\n\u001b[0;32m    113\u001b[0m     \u001b[38;5;28;01mreturn\u001b[39;00m sol\n\u001b[0;32m    115\u001b[0m unassigned_tasks \u001b[38;5;241m=\u001b[39m [i \u001b[38;5;28;01mfor\u001b[39;00m i \u001b[38;5;129;01min\u001b[39;00m \u001b[38;5;28mrange\u001b[39m(Pb\u001b[38;5;241m.\u001b[39mt) \u001b[38;5;28;01mif\u001b[39;00m sol[i]\u001b[38;5;241m==\u001b[39m\u001b[38;5;241m-\u001b[39m\u001b[38;5;241m1\u001b[39m]\n\u001b[1;32m--> 117\u001b[0m task \u001b[38;5;241m=\u001b[39m \u001b[43mnp\u001b[49m\u001b[38;5;241;43m.\u001b[39;49m\u001b[43mrandom\u001b[49m\u001b[38;5;241;43m.\u001b[39;49m\u001b[43mchoice\u001b[49m\u001b[43m(\u001b[49m\u001b[43munassigned_tasks\u001b[49m\u001b[43m)\u001b[49m\n\u001b[0;32m    119\u001b[0m agent_values \u001b[38;5;241m=\u001b[39m [affectations[\u001b[38;5;241m0\u001b[39m][\u001b[38;5;241m0\u001b[39m] \u001b[38;5;28;01mfor\u001b[39;00m affectations \u001b[38;5;129;01min\u001b[39;00m sorted_affectations \u001b[38;5;28;01mif\u001b[39;00m affectations[\u001b[38;5;241m0\u001b[39m][\u001b[38;5;241m1\u001b[39m]\u001b[38;5;241m==\u001b[39mtask]\n\u001b[0;32m    121\u001b[0m \u001b[38;5;28;01mfor\u001b[39;00m a \u001b[38;5;129;01min\u001b[39;00m agent_values:\n\u001b[0;32m    122\u001b[0m     \u001b[38;5;66;03m# On essaye une affectation\u001b[39;00m\n",
      "\u001b[1;31mKeyboardInterrupt\u001b[0m: "
     ]
    }
   ],
   "source": [
    "# fn_initialisation = init.sol_gloutonne_stoch_c\n",
    "# fn_un_pas = v.un_pas_reaffectation\n",
    "# initialisation = True\n",
    "# critere = 'min'\n",
    "# timeMax = .5\n",
    "# nb_depart = 1\n",
    "\n",
    "\n",
    "# results = []\n",
    "\n",
    "# for file in os.listdir(dir_instances)[-4:]:\n",
    "#     instance = file[:-4]\n",
    "#     if instance ==\"gapd\":\n",
    "#         for id in range(6):\n",
    "#             pb = init.Pb(dir_instances+file, id)\n",
    "#             val, sol, execTime = v.montee_depMult_timeMax(pb, fn_initialisation, fn_un_pas, timeMax=timeMax,\n",
    "#                                                           critere=critere, init = initialisation, nb_depart = nb_depart)\n",
    "            \n",
    "#             print(instance, id,pb.t, pb.m,\"val \", val, \" en \", execTime,\"s.\")\n",
    "#             results.append({\"instance\":instance, \"id\":id, \"m\":pb.m, \"t\":pb.t, \"val\":val,\"time\":execTime})\n",
    "#             results_rt_1_swap = pd.DataFrame(results)\n",
    "#             results_rt_1_swap.to_csv(dir_resultats+\"max_resultats-a-c_rl_depMult_reaffect_stoch_50_5.csv\")\n",
    "#             if pb.realisabilite(sol)!=0:\n",
    "#                 print(\"Non realisable -------- \", file, id)"
   ]
  },
  {
   "cell_type": "markdown",
   "metadata": {},
   "source": [
    "## Recherche taboue"
   ]
  },
  {
   "cell_type": "markdown",
   "metadata": {},
   "source": [
    "### Executer pour resultats sur instances a-c en 8min max par instances\n",
    "1min sans amélioration par départ\n",
    "\n",
    "5 départs\n"
   ]
  },
  {
   "cell_type": "code",
   "execution_count": null,
   "metadata": {},
   "outputs": [
    {
     "name": "stdout",
     "output_type": "stream",
     "text": [
      "gapa 0 val  1703  en  10.103651762008667 s.\n",
      "init: 0.0019075870513916016 resol: 10.103651762008667\n",
      "gapa 1 val  3235  en  10.168569803237915 s.\n",
      "init: 0.001995563507080078 resol: 10.169569969177246\n",
      "gapa 2 val  1363  en  10.09739351272583 s.\n",
      "init: 0.0019915103912353516 resol: 10.098390817642212\n",
      "gapa 3 val  2628  en  10.600110292434692 s.\n",
      "init: 0.003996849060058594 resol: 10.601108312606812\n",
      "gapa 4 val  1163  en  10.298075914382935 s.\n",
      "init: 0.0010001659393310547 resol: 10.299030303955078\n",
      "gapa 5 val  2349  en  10.680903196334839 s.\n",
      "init: 0.004990100860595703 resol: 10.680903196334839\n",
      "gapb 0 val  1900  en  10.054476499557495 s.\n",
      "init: 0.0019981861114501953 resol: 10.054476499557495\n",
      "gapb 1 val  3596  en  10.170149803161621 s.\n",
      "init: 0.0019991397857666016 resol: 10.17115592956543\n",
      "gapb 2 val  1421  en  10.078164339065552 s.\n",
      "init: 0.0019903182983398438 resol: 10.078164339065552\n",
      "gapb 3 val  2896  en  10.260348558425903 s.\n",
      "init: 0.0019953250885009766 resol: 10.260348558425903\n",
      "gapb 4 val  1193  en  10.15242600440979 s.\n",
      "init: 0.0010018348693847656 resol: 10.15242600440979\n",
      "gapb 5 val  2364  en  10.54784607887268 s.\n",
      "init: 0.005007266998291016 resol: 10.54784607887268\n",
      "gapc 0 val  1957  en  10.05997347831726 s.\n",
      "init: 0.0010013580322265625 resol: 10.05997347831726\n",
      "gapc 1 val  3516  en  10.164905071258545 s.\n",
      "init: 0.001993417739868164 resol: 10.164905071258545\n",
      "gapc 2 val  1444  en  10.083518743515015 s.\n",
      "init: 0.001992940902709961 resol: 10.083518743515015\n",
      "gapc 3 val  2846  en  10.353750705718994 s.\n",
      "init: 0.0010275840759277344 resol: 10.353750705718994\n",
      "gapc 4 val  1270  en  10.242753267288208 s.\n",
      "init: 0.0019910335540771484 resol: 10.242753267288208\n",
      "gapc 5 val  2429  en  10.44168758392334 s.\n",
      "init: 0.0029876232147216797 resol: 10.442588329315186\n"
     ]
    }
   ],
   "source": [
    "fn_rt_glb = rt.a_recherche_taboue_timeMax\n",
    "fn_init = init.sol_gloutonne_stoch_c\n",
    "fn_un_pas = rt.descente_un_pas_tabou_reaffect_nvl_agent\n",
    "fn_rt = rt.recherche_taboue\n",
    "fn_un_pas_ls = v.un_pas_reaffectation\n",
    "critere_tabou = rt.tabou_liste_tache_reaffectation\n",
    "initialisation = True\n",
    "critere = 'min'\n",
    "aspiration = True\n",
    "timeMax = .5\n",
    "timeMaxAmelio = 60\n",
    "\n",
    "\n",
    "results = []\n",
    "\n",
    "for file in os.listdir(dir_instances)[-4:]:\n",
    "    instance = file[:-4]\n",
    "    if instance !=\"gapd\":\n",
    "        for id in range(6):\n",
    "            pb = init.Pb(dir_instances+file, id)\n",
    "            taille_liste = pb.t//4\n",
    "            val, val_initiale, execTime, real = rt.a_recherche_taboue_depart_mult(pb, fn_rt_glb, fn_rt, fn_init, fn_un_pas,fn_un_pas_ls, critere_tabou,\n",
    "                                                                                taille_liste = taille_liste, init = initialisation,\n",
    "                                                                                aspiration = aspiration, critere = critere,\n",
    "                                                                                timeMax = timeMax, timeMaxAmelio=timeMaxAmelio, nb_depart=5)\n",
    "            \n",
    "            print(instance, id,pb.t, pb.m,\"val \", val, \" en \", execTime,\"s.\")\n",
    "            results.append({\"instance\":instance, \"id\":id, \"m\":pb.m, \"t\":pb.t, \"val\":val,\"time\":execTime})\n",
    "            results_rt_1_swap = pd.DataFrame(results)\n",
    "            results_rt_1_swap.to_csv(dir_resultats+\"min_resultats-a-c_rt_depMult_reaffect_stoch_4_tache_480_60.csv\")\n",
    "            if not real:\n",
    "                print(\"Non realisable -------- \", file, id)"
   ]
  },
  {
   "cell_type": "markdown",
   "metadata": {},
   "source": [
    "### Executer pour résultats sur instances d en 8min max"
   ]
  },
  {
   "cell_type": "code",
   "execution_count": null,
   "metadata": {},
   "outputs": [],
   "source": [
    "# fn_rt_glb = rt.a_recherche_taboue_timeMax\n",
    "# fn_init = init.sol_gloutonne_stoch_c\n",
    "# fn_un_pas = rt.descente_un_pas_tabou_reaffect_nvl_agent\n",
    "# fn_rt = rt.recherche_taboue\n",
    "# fn_un_pas_ls = v.un_pas_reaffectation\n",
    "# critere_tabou = rt.tabou_liste_tache_reaffectation\n",
    "# initialisation = True\n",
    "# critere = 'min'\n",
    "# aspiration = True\n",
    "# timeMax = .5\n",
    "# timeMaxAmelio = 60\n",
    "\n",
    "\n",
    "# results = []\n",
    "\n",
    "# for file in os.listdir(dir_instances)[-4:]:\n",
    "#     instance = file[:-4]\n",
    "#     if instance ==\"gapd\":\n",
    "#         for id in range(6):\n",
    "#             pb = init.Pb(dir_instances+file, id)\n",
    "#             taille_liste = pb.t//4\n",
    "#             val, val_initiale, execTime, real = rt.a_recherche_taboue_depart_mult(pb, fn_rt_glb, fn_rt, fn_init, fn_un_pas,fn_un_pas_ls, critere_tabou,\n",
    "#                                                                                 taille_liste = taille_liste, init = initialisation,\n",
    "#                                                                                 aspiration = aspiration, critere = critere,\n",
    "#                                                                                 timeMax = timeMax, timeMaxAmelio=timeMaxAmelio, nb_depart=5)\n",
    "            \n",
    "#             print(instance, id,pb.t, pb.m,\"val \", val, \" en \", execTime,\"s.\")\n",
    "#             results.append({\"instance\":instance, \"id\":id, \"m\":pb.m, \"t\":pb.t, \"val\":val,\"time\":execTime})\n",
    "#             results_rt_1_swap = pd.DataFrame(results)\n",
    "#             results_rt_1_swap.to_csv(dir_resultats+\"min_resultats-d_rt_depMult_reaffect_stoch_4_tache_480_60.csv\")\n",
    "#             if not real:\n",
    "#                 print(\"Non realisable -------- \", file, id)"
   ]
  },
  {
   "cell_type": "markdown",
   "metadata": {},
   "source": [
    "### Executer pour res sur instances 1-12 en 5min max par instances \n",
    "30s sans amélioration par départ\n",
    "\n",
    "5 départs"
   ]
  },
  {
   "cell_type": "code",
   "execution_count": null,
   "metadata": {},
   "outputs": [],
   "source": [
    "fn_rt_glb = rt.a_recherche_taboue_timeMax\n",
    "fn_init = init.sol_gloutonne_stoch_c\n",
    "fn_un_pas = rt.descente_un_pas_tabou_reaffect_nvl_agent\n",
    "fn_rt = rt.recherche_taboue\n",
    "fn_un_pas_ls = v.un_pas_reaffectation\n",
    "critere_tabou = rt.tabou_liste_tache_reaffectation\n",
    "initialisation = True\n",
    "critere = 'max'\n",
    "aspiration = True\n",
    "timeMax = .5\n",
    "timeMaxAmelio = 30\n",
    "\n",
    "\n",
    "results = []\n",
    "\n",
    "for file in os.listdir(dir_instances)[:12]:\n",
    "    instance = file[:-4]\n",
    "    for id in range(5):\n",
    "        s = time.time()\n",
    "        pb = init.Pb(dir_instances+file, id)\n",
    "        taille_liste = pb.t//4\n",
    "        t_init = time.time()\n",
    "        val, val_initiale, execTime, real = rt.a_recherche_taboue_depart_mult(pb, fn_rt_glb, fn_rt, fn_init, fn_un_pas,fn_un_pas_ls, critere_tabou,\n",
    "                                                                            taille_liste = taille_liste, init = initialisation,\n",
    "                                                                            aspiration = aspiration, critere = critere,\n",
    "                                                                            timeMax = timeMax, timeMaxAmelio=timeMaxAmelio, nb_depart=5)\n",
    "        \n",
    "        print(instance, id,\"val \", val, \" en \", execTime,\"s.\")\n",
    "        t_resol = time.time()\n",
    "        print(\"init:\", t_init-s, \"resol:\",t_resol-t_init)\n",
    "        results.append({\"instance\":instance, \"id\":id, \"m\":pb.m, \"t\":pb.t, \"val\":val,\"time\":execTime})\n",
    "        results_rt_1_swap = pd.DataFrame(results)\n",
    "        results_rt_1_swap.to_csv(dir_resultats+\"max_resultats-1-12_rt_depMult_reaffect_stoch_4_tache_300_30.csv\")\n",
    "        if not real:\n",
    "            print(\"Non realisable -------- \", file, id)"
   ]
  }
 ],
 "metadata": {
  "kernelspec": {
   "display_name": "Python 3",
   "language": "python",
   "name": "python3"
  },
  "language_info": {
   "codemirror_mode": {
    "name": "ipython",
    "version": 3
   },
   "file_extension": ".py",
   "mimetype": "text/x-python",
   "name": "python",
   "nbconvert_exporter": "python",
   "pygments_lexer": "ipython3",
   "version": "3.12.6"
  }
 },
 "nbformat": 4,
 "nbformat_minor": 2
}
