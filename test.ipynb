{
 "cells": [
  {
   "cell_type": "code",
   "execution_count": null,
   "metadata": {},
   "outputs": [],
   "source": [
    "import init_sol as init\n",
    "import voisinage as v\n",
    "import numpy as np\n",
    "import os\n",
    "import pandas as pd\n",
    "import time\n",
    "import recherche_taboue as rt\n",
    "\n",
    "dir_instances = \"instances/\"\n",
    "dir_resultats = \"resultats/\""
   ]
  },
  {
   "cell_type": "code",
   "execution_count": 53,
   "metadata": {},
   "outputs": [
    {
     "name": "stdout",
     "output_type": "stream",
     "text": [
      "200 5\n",
      "0\n",
      "True\n",
      "4328\n",
      "200\n",
      "4330\n",
      "3600 0.03592276573181152 0.03592276573181152\n",
      "0\n"
     ]
    }
   ],
   "source": [
    "pb = init.Pb(\"instances/gapb.txt\", 1)\n",
    "print(pb.t, pb.m)\n",
    "init.sol_gloutonne_2(pb, critere = 'min')\n",
    "print(pb.realisabilite(pb.x))\n",
    "print(init.est_complete(pb.x))\n",
    "print(pb.f)\n",
    "print(len(pb.x))\n",
    "init.sol_gloutonne_stoch_c(pb, critere = 'min')\n",
    "print(pb.f)\n",
    "s= time.time()\n",
    "val, exec_time = v.montee_timeMax(pb, init.sol_gloutonne_2, v.un_pas_reaffectation, timeMax = 120, critere = 'min')\n",
    "end = time.time()\n",
    "print(val, exec_time, end-s)\n",
    "print(pb.realisabilite(pb.x))\n",
    "\n",
    "# val, sol, temps = rt.a_recherche_taboue_depart_mult(pb, rt.a_recherche_taboue_timeMax, rt.recherche_taboue, init.sol_gloutonne_stoch_c, rt.descente_un_pas_tabou_reaffect_nvl_agent,\n",
    "#                                                     None, rt.tabou_liste_tache_reaffectation,pb.t//4,critere = 'min', timeMax=120,\n",
    "#                                                     timeMaxAmelio= 30, nb_depart=5)\n",
    "# print(val, pb.realisabilite(sol)==0, temps)"
   ]
  },
  {
   "cell_type": "markdown",
   "metadata": {},
   "source": [
    "## Recherche locale"
   ]
  },
  {
   "cell_type": "markdown",
   "metadata": {},
   "source": [
    "### Exécuter pour résultats sur instances 1-12 en 50s max par instances\n",
    "\n",
    "Voisinage: réaffectation d'une tâche.\n",
    "\n",
    "Départs multiples: 5 par tâches."
   ]
  },
  {
   "cell_type": "code",
   "execution_count": null,
   "metadata": {},
   "outputs": [],
   "source": [
    "fn_initialisation = init.sol_gloutonne_stoch_c\n",
    "fn_un_pas = rt.descente_un_pas_tabou_reaffect_nvl_agent\n",
    "initialisation = True\n",
    "critere = 'max'\n",
    "timeMax = 50\n",
    "nb_depart = 5\n",
    "\n",
    "\n",
    "results = []\n",
    "\n",
    "for file in os.listdir(dir_instances)[:12]:\n",
    "    instance = file[:-4]\n",
    "    for id in range(5):\n",
    "        pb = init.Pb(dir_instances+file, id)\n",
    "        val, sol, execTime = v.montee_depMult_timeMax(pb, fn_initialisation, fn_un_pas, timeMax=timeMax,\n",
    "                                                        critere=critere, init = initialisation, nb_depart = nb_depart)\n",
    "        \n",
    "        print(instance, id,pb.t, pb.m,\"val \", val, \" en \", execTime,\"s.\")\n",
    "        results.append({\"instance\":instance, \"id\":id, \"m\":pb.m, \"t\":pb.t, \"val\":val,\"time\":execTime})\n",
    "        results_rt_1_swap = pd.DataFrame(results)\n",
    "        results_rt_1_swap.to_csv(dir_resultats+\"max_resultats-1-12_rl_depMult_reaffect_stoch_50_5.csv\")\n",
    "        if pb.realisabilite(sol)!=0:\n",
    "            print(\"Non realisable -------- \", file, id)"
   ]
  },
  {
   "cell_type": "markdown",
   "metadata": {},
   "source": [
    "### Exécuter pour résultats sur instances a-c en 50s max par instances\n",
    "\n",
    "Voisinage: réaffectation d'une tâche.\n",
    "\n",
    "Départs multiples: 5 par tâches."
   ]
  },
  {
   "cell_type": "code",
   "execution_count": null,
   "metadata": {},
   "outputs": [],
   "source": [
    "fn_initialisation = init.sol_gloutonne_stoch_c\n",
    "fn_un_pas = rt.descente_un_pas_tabou_reaffect_nvl_agent\n",
    "initialisation = True\n",
    "critere = 'min'\n",
    "timeMax = 50\n",
    "nb_depart = 5\n",
    "\n",
    "\n",
    "results = []\n",
    "\n",
    "for file in os.listdir(dir_instances)[-4:]:\n",
    "    instance = file[:-4]\n",
    "    if instance !=\"gapd\":\n",
    "        for id in range(6):\n",
    "            pb = init.Pb(dir_instances+file, id)\n",
    "            val, sol, execTime = v.montee_depMult_timeMax(pb, fn_initialisation, fn_un_pas, timeMax=timeMax,\n",
    "                                                          critere=critere, init = initialisation, nb_depart = nb_depart)\n",
    "            \n",
    "            print(instance, id,pb.t, pb.m,\"val \", val, \" en \", execTime,\"s.\")\n",
    "            results.append({\"instance\":instance, \"id\":id, \"m\":pb.m, \"t\":pb.t, \"val\":val,\"time\":execTime})\n",
    "            results_rt_1_swap = pd.DataFrame(results)\n",
    "            results_rt_1_swap.to_csv(dir_resultats+\"max_resultats-a-c_rl_depMult_reaffect_stoch_50_5.csv\")\n",
    "            if pb.realisabilite(sol)!=0:\n",
    "                print(\"Non realisable -------- \", file, id)"
   ]
  },
  {
   "cell_type": "markdown",
   "metadata": {},
   "source": [
    "### Exécuter pour résultats sur instances d en 50s max par instances\n",
    "\n",
    "Voisinage: réaffectation d'une tâche.\n",
    "\n",
    "Départs multiples: 5 par tâches."
   ]
  },
  {
   "cell_type": "code",
   "execution_count": null,
   "metadata": {},
   "outputs": [],
   "source": [
    "fn_initialisation = init.sol_gloutonne_stoch_c\n",
    "fn_un_pas = rt.descente_un_pas_tabou_reaffect_nvl_agent\n",
    "initialisation = True\n",
    "critere = 'min'\n",
    "timeMax = 50\n",
    "nb_depart = 5\n",
    "\n",
    "\n",
    "results = []\n",
    "\n",
    "for file in os.listdir(dir_instances)[-4:]:\n",
    "    instance = file[:-4]\n",
    "    if instance ==\"gapd\":\n",
    "        for id in range(6):\n",
    "            pb = init.Pb(dir_instances+file, id)\n",
    "            val, sol, execTime = v.montee_depMult_timeMax(pb, fn_initialisation, fn_un_pas, timeMax=timeMax,\n",
    "                                                          critere=critere, init = initialisation, nb_depart = nb_depart)\n",
    "            \n",
    "            print(instance, id,pb.t, pb.m,\"val \", val, \" en \", execTime,\"s.\")\n",
    "            results.append({\"instance\":instance, \"id\":id, \"m\":pb.m, \"t\":pb.t, \"val\":val,\"time\":execTime})\n",
    "            results_rt_1_swap = pd.DataFrame(results)\n",
    "            results_rt_1_swap.to_csv(dir_resultats+\"max_resultats-a-c_rl_depMult_reaffect_stoch_50_5.csv\")\n",
    "            if pb.realisabilite(sol)!=0:\n",
    "                print(\"Non realisable -------- \", file, id)"
   ]
  },
  {
   "cell_type": "markdown",
   "metadata": {},
   "source": [
    "## Recherche taboue"
   ]
  },
  {
   "cell_type": "markdown",
   "metadata": {},
   "source": [
    "### Executer pour resultats sur instances a-c en 8min max par instances\n",
    "1min sans amélioration par départ\n",
    "\n",
    "5 départs\n"
   ]
  },
  {
   "cell_type": "code",
   "execution_count": null,
   "metadata": {},
   "outputs": [
    {
     "name": "stdout",
     "output_type": "stream",
     "text": [
      "gapa 0 val  1703  en  10.103651762008667 s.\n",
      "init: 0.0019075870513916016 resol: 10.103651762008667\n",
      "gapa 1 val  3235  en  10.168569803237915 s.\n",
      "init: 0.001995563507080078 resol: 10.169569969177246\n",
      "gapa 2 val  1363  en  10.09739351272583 s.\n",
      "init: 0.0019915103912353516 resol: 10.098390817642212\n",
      "gapa 3 val  2628  en  10.600110292434692 s.\n",
      "init: 0.003996849060058594 resol: 10.601108312606812\n",
      "gapa 4 val  1163  en  10.298075914382935 s.\n",
      "init: 0.0010001659393310547 resol: 10.299030303955078\n",
      "gapa 5 val  2349  en  10.680903196334839 s.\n",
      "init: 0.004990100860595703 resol: 10.680903196334839\n",
      "gapb 0 val  1900  en  10.054476499557495 s.\n",
      "init: 0.0019981861114501953 resol: 10.054476499557495\n",
      "gapb 1 val  3596  en  10.170149803161621 s.\n",
      "init: 0.0019991397857666016 resol: 10.17115592956543\n",
      "gapb 2 val  1421  en  10.078164339065552 s.\n",
      "init: 0.0019903182983398438 resol: 10.078164339065552\n",
      "gapb 3 val  2896  en  10.260348558425903 s.\n",
      "init: 0.0019953250885009766 resol: 10.260348558425903\n",
      "gapb 4 val  1193  en  10.15242600440979 s.\n",
      "init: 0.0010018348693847656 resol: 10.15242600440979\n",
      "gapb 5 val  2364  en  10.54784607887268 s.\n",
      "init: 0.005007266998291016 resol: 10.54784607887268\n",
      "gapc 0 val  1957  en  10.05997347831726 s.\n",
      "init: 0.0010013580322265625 resol: 10.05997347831726\n",
      "gapc 1 val  3516  en  10.164905071258545 s.\n",
      "init: 0.001993417739868164 resol: 10.164905071258545\n",
      "gapc 2 val  1444  en  10.083518743515015 s.\n",
      "init: 0.001992940902709961 resol: 10.083518743515015\n",
      "gapc 3 val  2846  en  10.353750705718994 s.\n",
      "init: 0.0010275840759277344 resol: 10.353750705718994\n",
      "gapc 4 val  1270  en  10.242753267288208 s.\n",
      "init: 0.0019910335540771484 resol: 10.242753267288208\n",
      "gapc 5 val  2429  en  10.44168758392334 s.\n",
      "init: 0.0029876232147216797 resol: 10.442588329315186\n"
     ]
    }
   ],
   "source": [
    "fn_rt_glb = rt.a_recherche_taboue_timeMax\n",
    "fn_init = init.sol_gloutonne_stoch_c\n",
    "fn_un_pas = rt.descente_un_pas_tabou_reaffect_nvl_agent\n",
    "fn_rt = rt.recherche_taboue\n",
    "fn_un_pas_ls = v.un_pas_reaffectation\n",
    "critere_tabou = rt.tabou_liste_tache_reaffectation\n",
    "initialisation = True\n",
    "critere = 'min'\n",
    "aspiration = True\n",
    "timeMax = 480\n",
    "timeMaxAmelio = 60\n",
    "\n",
    "\n",
    "results = []\n",
    "\n",
    "for file in os.listdir(dir_instances)[-4:]:\n",
    "    instance = file[:-4]\n",
    "    if instance !=\"gapd\":\n",
    "        for id in range(6):\n",
    "            pb = init.Pb(dir_instances+file, id)\n",
    "            taille_liste = pb.t//4\n",
    "            val, val_initiale, execTime, real = rt.a_recherche_taboue_depart_mult(pb, fn_rt_glb, fn_rt, fn_init, fn_un_pas,fn_un_pas_ls, critere_tabou,\n",
    "                                                                                taille_liste = taille_liste, init = initialisation,\n",
    "                                                                                aspiration = aspiration, critere = critere,\n",
    "                                                                                timeMax = timeMax, timeMaxAmelio=timeMaxAmelio, nb_depart=5)\n",
    "            \n",
    "            print(instance, id,pb.t, pb.m,\"val \", val, \" en \", execTime,\"s.\")\n",
    "            results.append({\"instance\":instance, \"id\":id, \"m\":pb.m, \"t\":pb.t, \"val\":val,\"time\":execTime})\n",
    "            results_rt_1_swap = pd.DataFrame(results)\n",
    "            results_rt_1_swap.to_csv(dir_resultats+\"min_resultats-a-c_rt_depMult_reaffect_stoch_4_tache_480_60.csv\")\n",
    "            if not real:\n",
    "                print(\"Non realisable -------- \", file, id)"
   ]
  },
  {
   "cell_type": "markdown",
   "metadata": {},
   "source": [
    "### Executer pour résultats sur instances d en 8min max"
   ]
  },
  {
   "cell_type": "code",
   "execution_count": null,
   "metadata": {},
   "outputs": [],
   "source": [
    "fn_rt_glb = rt.a_recherche_taboue_timeMax\n",
    "fn_init = init.sol_gloutonne_stoch_c\n",
    "fn_un_pas = rt.descente_un_pas_tabou_reaffect_nvl_agent\n",
    "fn_rt = rt.recherche_taboue\n",
    "fn_un_pas_ls = v.un_pas_reaffectation\n",
    "critere_tabou = rt.tabou_liste_tache_reaffectation\n",
    "initialisation = True\n",
    "critere = 'min'\n",
    "aspiration = True\n",
    "timeMax = 480\n",
    "timeMaxAmelio = 60\n",
    "\n",
    "\n",
    "results = []\n",
    "\n",
    "for file in os.listdir(dir_instances)[-4:]:\n",
    "    instance = file[:-4]\n",
    "    if instance ==\"gapd\":\n",
    "        for id in range(6):\n",
    "            pb = init.Pb(dir_instances+file, id)\n",
    "            taille_liste = pb.t//4\n",
    "            val, val_initiale, execTime, real = rt.a_recherche_taboue_depart_mult(pb, fn_rt_glb, fn_rt, fn_init, fn_un_pas,fn_un_pas_ls, critere_tabou,\n",
    "                                                                                taille_liste = taille_liste, init = initialisation,\n",
    "                                                                                aspiration = aspiration, critere = critere,\n",
    "                                                                                timeMax = timeMax, timeMaxAmelio=timeMaxAmelio, nb_depart=5)\n",
    "            \n",
    "            print(instance, id,pb.t, pb.m,\"val \", val, \" en \", execTime,\"s.\")\n",
    "            results.append({\"instance\":instance, \"id\":id, \"m\":pb.m, \"t\":pb.t, \"val\":val,\"time\":execTime})\n",
    "            results_rt_1_swap = pd.DataFrame(results)\n",
    "            results_rt_1_swap.to_csv(dir_resultats+\"min_resultats-d_rt_depMult_reaffect_stoch_4_tache_480_60.csv\")\n",
    "            if not real:\n",
    "                print(\"Non realisable -------- \", file, id)"
   ]
  },
  {
   "cell_type": "markdown",
   "metadata": {},
   "source": [
    "### Executer pour res sur instances 1-12 en 5min max par instances \n",
    "30s sans amélioration par départ\n",
    "\n",
    "5 départs"
   ]
  },
  {
   "cell_type": "code",
   "execution_count": null,
   "metadata": {},
   "outputs": [],
   "source": [
    "fn_rt_glb = rt.a_recherche_taboue_timeMax\n",
    "fn_init = init.sol_gloutonne_stoch_c\n",
    "fn_un_pas = rt.descente_un_pas_tabou_reaffect_nvl_agent\n",
    "fn_rt = rt.recherche_taboue\n",
    "fn_un_pas_ls = v.un_pas_reaffectation\n",
    "critere_tabou = rt.tabou_liste_tache_reaffectation\n",
    "initialisation = True\n",
    "critere = 'max'\n",
    "aspiration = True\n",
    "timeMax = 300\n",
    "timeMaxAmelio = 30\n",
    "\n",
    "\n",
    "results = []\n",
    "\n",
    "for file in os.listdir(dir_instances)[:12]:\n",
    "    instance = file[:-4]\n",
    "    for id in range(5):\n",
    "        s = time.time()\n",
    "        pb = init.Pb(dir_instances+file, id)\n",
    "        taille_liste = pb.t//4\n",
    "        t_init = time.time()\n",
    "        val, val_initiale, execTime, real = rt.a_recherche_taboue_depart_mult(pb, fn_rt_glb, fn_rt, fn_init, fn_un_pas,fn_un_pas_ls, critere_tabou,\n",
    "                                                                            taille_liste = taille_liste, init = initialisation,\n",
    "                                                                            aspiration = aspiration, critere = critere,\n",
    "                                                                            timeMax = timeMax, timeMaxAmelio=timeMaxAmelio, nb_depart=5)\n",
    "        \n",
    "        print(instance, id,\"val \", val, \" en \", execTime,\"s.\")\n",
    "        t_resol = time.time()\n",
    "        print(\"init:\", t_init-s, \"resol:\",t_resol-t_init)\n",
    "        results.append({\"instance\":instance, \"id\":id, \"m\":pb.m, \"t\":pb.t, \"val\":val,\"time\":execTime})\n",
    "        results_rt_1_swap = pd.DataFrame(results)\n",
    "        results_rt_1_swap.to_csv(dir_resultats+\"max_resultats-1-12_rt_depMult_reaffect_stoch_4_tache_300_30.csv\")\n",
    "        if not real:\n",
    "            print(\"Non realisable -------- \", file, id)"
   ]
  }
 ],
 "metadata": {
  "kernelspec": {
   "display_name": "Python 3",
   "language": "python",
   "name": "python3"
  },
  "language_info": {
   "codemirror_mode": {
    "name": "ipython",
    "version": 3
   },
   "file_extension": ".py",
   "mimetype": "text/x-python",
   "name": "python",
   "nbconvert_exporter": "python",
   "pygments_lexer": "ipython3",
   "version": "3.12.6"
  }
 },
 "nbformat": 4,
 "nbformat_minor": 2
}
