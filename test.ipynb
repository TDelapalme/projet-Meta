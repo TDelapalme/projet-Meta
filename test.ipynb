{
 "cells": [
  {
   "cell_type": "code",
   "execution_count": 1,
   "metadata": {},
   "outputs": [],
   "source": [
    "import init_sol as init\n",
    "import voisinage as v\n",
    "import numpy as np\n",
    "import os\n",
    "import pandas as pd"
   ]
  },
  {
   "cell_type": "code",
   "execution_count": 2,
   "metadata": {},
   "outputs": [
    {
     "name": "stdout",
     "output_type": "stream",
     "text": [
      "314 [1, 4, 2, 4, 0, 0, 3, 1, 1, -1, 2, 2, 3, 4, 1]\n",
      "[ 1  4  2  4  0  0  3  1  1 -1  2  2  3  4  1]\n",
      "314\n",
      "305 [1, -1, -1, -1, -1, 4, -1, -1, -1, -1, 2, -1, -1, -1, 3]\n"
     ]
    }
   ],
   "source": [
    "pb = init.Pb(\"instances/gap1.txt\", 3)\n",
    "sol = init.sol_gloutonne(pb)\n",
    "val = pb.evaluate(sol)\n",
    "print(val, sol)\n",
    "print(init.sol_gloutonne_2(pb))\n",
    "pb.x\n",
    "somme = np.sum([pb.c[pb.x[t],t] for t in range(pb.t)])\n",
    "print(somme)\n",
    "sol = init.sol_gloutonne_stoch(pb)\n",
    "val = pb.evaluate(sol)\n",
    "print(val, sol)\n"
   ]
  },
  {
   "cell_type": "code",
   "execution_count": 3,
   "metadata": {},
   "outputs": [
    {
     "name": "stderr",
     "output_type": "stream",
     "text": [
      "Exception in thread Thread-3 (montee):\n",
      "Traceback (most recent call last):\n",
      "  File \"d:\\Program\\python\\Lib\\threading.py\", line 1075, in _bootstrap_inner\n",
      "    self.run()\n",
      "  File \"C:\\Users\\ddesa\\AppData\\Roaming\\Python\\Python312\\site-packages\\ipykernel\\ipkernel.py\", line 766, in run_closure\n",
      "    _threading_Thread_run(self)\n",
      "  File \"d:\\Program\\python\\Lib\\threading.py\", line 1012, in run\n",
      "    self._target(*self._args, **self._kwargs)\n",
      "  File \"c:\\Users\\ddesa\\OneDrive\\Documents\\Dimitri\\scolarité\\ENSTA-MPRO\\MH\\projet-Meta\\voisinage.py\", line 118, in montee\n",
      "    opt_local = fn_un_pas(pb, critere)\n",
      "                ^^^^^^^^^^^^^^^^^^^^^^\n",
      "TypeError: montee_un_pas_swap() takes 1 positional argument but 2 were given\n"
     ]
    },
    {
     "name": "stdout",
     "output_type": "stream",
     "text": [
      "initialisation..\n",
      "[2 2 9 3 4 4 2 9 8 8 1 8 9 2 0 9 2 1 3 0 0 9 6 1 9 3 4 3 6 0 4 0 9 2 8 6 3\n",
      " 6 8 5 1 5 8 2 0 7 2 3 0 8 9 4 3 6 6 5 5 1 2 6]\n",
      "optimum local pas trouvé.\n",
      "(np.int64(1417), np.int64(1293), array([2, 2, 3, 9, 3, 5, 2, 0, 6, 9, 1, 0, 1, 2, 0, 3, 2, 1, 9, 0, 5, 9,\n",
      "       3, 3, 9, 1, 4, 9, 6, 4, 4, 0, 4, 2, 3, 8, 3, 0, 5, 8, 1, 6, 6, 2,\n",
      "       8, 7, 2, 4, 8, 8, 5, 9, 6, 6, 6, 0, 8, 9, 2, 8]), 19)\n"
     ]
    },
    {
     "data": {
      "text/plain": [
       "(np.int64(1293), 0.005446672439575195)"
      ]
     },
     "execution_count": 3,
     "metadata": {},
     "output_type": "execute_result"
    }
   ],
   "source": [
    "pb = init.Pb(\"instances/gap12.txt\", 4)\n",
    "\n",
    "print(v.montee_iterMax(pb,init.sol_gloutonne_2,v.montee_un_pas_swap,20))\n",
    "\n",
    "pb = init.Pb(\"instances/gap12.txt\", 4)\n",
    "v.montee_timeMax(pb,init.sol_gloutonne_2,v.montee_un_pas_swap,2)"
   ]
  },
  {
   "cell_type": "code",
   "execution_count": 6,
   "metadata": {},
   "outputs": [
    {
     "name": "stdout",
     "output_type": "stream",
     "text": [
      "solution initiale non réalisable: toutes les tâches ne sont pas affectées.\n",
      "instance  gap1 0 : valeur  304  et temps  0.001005411148071289\n",
      "instance  gap1 1 : valeur  307  et temps  0.0012900829315185547\n",
      "instance  gap1 2 : valeur  312  et temps  0.0009951591491699219\n",
      "instance  gap1 3 : valeur  -1  et temps  0.004984617233276367\n",
      "instance  gap1 4 : valeur  310  et temps  0.0019922256469726562\n",
      "instance  gap10 0 : valeur  924  et temps  0.0359339714050293\n",
      "instance  gap10 1 : valeur  965  et temps  0.040857791900634766\n",
      "instance  gap10 2 : valeur  955  et temps  0.03493976593017578\n",
      "instance  gap10 3 : valeur  939  et temps  0.03275609016418457\n",
      "instance  gap10 4 : valeur  919  et temps  0.0278933048248291\n",
      "instance  gap11 0 : valeur  1137  et temps  0.0877377986907959\n",
      "instance  gap11 1 : valeur  1113  et temps  0.02395796775817871\n",
      "instance  gap11 2 : valeur  1177  et temps  0.036870718002319336\n",
      "instance  gap11 3 : valeur  1131  et temps  0.04391336441040039\n",
      "instance  gap11 4 : valeur  1175  et temps  0.06884765625\n",
      "instance  gap12 0 : valeur  1426  et temps  0.10070085525512695\n",
      "instance  gap12 1 : valeur  1454  et temps  0.13361334800720215\n",
      "instance  gap12 2 : valeur  1404  et temps  0.1067349910736084\n",
      "instance  gap12 3 : valeur  1405  et temps  0.07626032829284668\n",
      "instance  gap12 4 : valeur  1419  et temps  0.08318185806274414\n",
      "instance  gap2 0 : valeur  387  et temps  0.0006439685821533203\n",
      "instance  gap2 1 : valeur  412  et temps  0.0010218620300292969\n",
      "instance  gap2 2 : valeur  405  et temps  0.0020325183868408203\n",
      "instance  gap2 3 : valeur  380  et temps  0.0009589195251464844\n",
      "instance  gap2 4 : valeur  412  et temps  0.003056764602661133\n",
      "instance  gap3 0 : valeur  532  et temps  0.0009980201721191406\n",
      "instance  gap3 1 : valeur  561  et temps  0.006766796112060547\n",
      "instance  gap3 2 : valeur  549  et temps  0.004016876220703125\n",
      "instance  gap3 3 : valeur  540  et temps  0.0029931068420410156\n",
      "instance  gap3 4 : valeur  518  et temps  0.0009703636169433594\n",
      "instance  gap4 0 : valeur  596  et temps  0.0036575794219970703\n",
      "instance  gap4 1 : valeur  666  et temps  0.013992547988891602\n",
      "instance  gap4 2 : valeur  614  et temps  0.0049898624420166016\n",
      "instance  gap4 3 : valeur  629  et temps  0.005980730056762695\n",
      "instance  gap4 4 : valeur  667  et temps  0.011936187744140625\n",
      "instance  gap5 0 : valeur  536  et temps  0.004022121429443359\n",
      "instance  gap5 1 : valeur  488  et temps  0.001779317855834961\n",
      "instance  gap5 2 : valeur  542  et temps  0.0030219554901123047\n",
      "instance  gap5 3 : valeur  536  et temps  0.001071929931640625\n",
      "instance  gap5 4 : valeur  514  et temps  0.0010006427764892578\n",
      "instance  gap6 0 : valeur  717  et temps  0.005968809127807617\n",
      "instance  gap6 1 : valeur  770  et temps  0.024935245513916016\n",
      "instance  gap6 2 : valeur  708  et temps  0.013961076736450195\n",
      "instance  gap6 3 : valeur  709  et temps  0.02194046974182129\n",
      "instance  gap6 4 : valeur  709  et temps  0.01097249984741211\n",
      "instance  gap7 0 : valeur  938  et temps  0.047869205474853516\n",
      "instance  gap7 1 : valeur  951  et temps  0.0448763370513916\n",
      "instance  gap7 2 : valeur  928  et temps  0.024926185607910156\n",
      "instance  gap7 3 : valeur  941  et temps  0.03390860557556152\n",
      "instance  gap7 4 : valeur  942  et temps  0.03192019462585449\n",
      "instance  gap8 0 : valeur  1067  et temps  0.009971380233764648\n",
      "instance  gap8 1 : valeur  1124  et temps  0.06383347511291504\n",
      "instance  gap8 2 : valeur  1112  et temps  0.0483088493347168\n",
      "instance  gap8 3 : valeur  1052  et temps  0.018946170806884766\n",
      "instance  gap8 4 : valeur  1080  et temps  0.03490495681762695\n",
      "instance  gap9 0 : valeur  699  et temps  0.022938966751098633\n",
      "instance  gap9 1 : valeur  671  et temps  0.009973526000976562\n",
      "instance  gap9 2 : valeur  678  et temps  0.017941951751708984\n",
      "instance  gap9 3 : valeur  678  et temps  0.0059814453125\n",
      "instance  gap9 4 : valeur  667  et temps  0.017954349517822266\n"
     ]
    }
   ],
   "source": [
    "fn_initialisation = init.sol_gloutonne_2\n",
    "fn_un_pas = v.un_pas_swap\n",
    "timeMax = 20\n",
    "critere = 'max'\n",
    "results = {}\n",
    "\n",
    "for file in os.listdir(\"instances/\")[:12]:\n",
    "    instance = file[:-4]\n",
    "    results[instance] = []\n",
    "    for id in range(5):\n",
    "        pb = init.Pb(\"instances/\"+file, id)\n",
    "        val, execTime = v.montee_timeMax(pb, fn_initialisation, fn_un_pas, timeMax=timeMax, critere=critere)\n",
    "        results[instance].append((val, execTime))\n",
    "\n",
    "\n",
    "for instance in results.keys():\n",
    "    for i in range(5):\n",
    "        print(\"instance \", instance, i, \": valeur \", results[instance][i][0], \" et temps \", results[instance][i][1])"
   ]
  }
 ],
 "metadata": {
  "kernelspec": {
   "display_name": "Python 3",
   "language": "python",
   "name": "python3"
  },
  "language_info": {
   "codemirror_mode": {
    "name": "ipython",
    "version": 3
   },
   "file_extension": ".py",
   "mimetype": "text/x-python",
   "name": "python",
   "nbconvert_exporter": "python",
   "pygments_lexer": "ipython3",
   "version": "3.12.6"
  }
 },
 "nbformat": 4,
 "nbformat_minor": 2
}
